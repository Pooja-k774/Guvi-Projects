{
 "cells": [
  {
   "cell_type": "code",
   "execution_count": 1,
   "metadata": {},
   "outputs": [],
   "source": [
    "#Clustering\n",
    "from sklearn.datasets import make_blobs"
   ]
  },
  {
   "cell_type": "code",
   "execution_count": 2,
   "metadata": {},
   "outputs": [],
   "source": [
    "import matplotlib.pyplot as plt\n",
    "from sklearn.datasets import make_blobs\n",
    "\n",
    "# Generate the blobs\n",
    "X, y = make_blobs(n_samples=150, n_features=2, centers=3, cluster_std=0.5, random_state=0) #cluster_std , captures the variance of data in cluster\n"
   ]
  },
  {
   "cell_type": "code",
   "execution_count": 3,
   "metadata": {},
   "outputs": [
    {
     "data": {
      "text/plain": [
       "<matplotlib.collections.PathCollection at 0x2291b9b7470>"
      ]
     },
     "execution_count": 3,
     "metadata": {},
     "output_type": "execute_result"
    },
    {
     "data": {
      "image/png": "[encoded data removed]",
      "text/plain": [
       "<Figure size 640x480 with 1 Axes>"
      ]
     },
     "metadata": {},
     "output_type": "display_data"
    }
   ],
   "source": [
    "import matplotlib.pyplot as plt\n",
    "plt.scatter(X[:,0],X[:,1])"
   ]
  },
  {
   "cell_type": "code",
   "execution_count": 4,
   "metadata": {},
   "outputs": [],
   "source": [
    "from sklearn.cluster import KMeans"
   ]
  },
  {
   "cell_type": "code",
   "execution_count": 5,
   "metadata": {},
   "outputs": [],
   "source": [
    "km=KMeans(n_clusters = 8, init = 'random',n_init = 10,tol = 0.0001,max_iter = 300, random_state = 0)  #k is the most important hyperparameter"
   ]
  },
  {
   "cell_type": "code",
   "execution_count": 6,
   "metadata": {},
   "outputs": [
    {
     "data": {
      "text/html": [
       "<style>#sk-container-id-1 {\n",
       "  /* Definition of color scheme common for light and dark mode */\n",
       "  --sklearn-color-text: black;\n",
       "  --sklearn-color-line: gray;\n",
       "  /* Definition of color scheme for unfitted estimators */\n",
       "  --sklearn-color-unfitted-level-0: #fff5e6;\n",
       "  --sklearn-color-unfitted-level-1: #f6e4d2;\n",
       "  --sklearn-color-unfitted-level-2: #ffe0b3;\n",
       "  --sklearn-color-unfitted-level-3: chocolate;\n",
       "  /* Definition of color scheme for fitted estimators */\n",
       "  --sklearn-color-fitted-level-0: #f0f8ff;\n",
       "  --sklearn-color-fitted-level-1: #d4ebff;\n",
       "  --sklearn-color-fitted-level-2: #b3dbfd;\n",
       "  --sklearn-color-fitted-level-3: cornflowerblue;\n",
       "\n",
       "  /* Specific color for light theme */\n",
       "  --sklearn-color-text-on-default-background: var(--sg-text-color, var(--theme-code-foreground, var(--jp-content-font-color1, black)));\n",
       "  --sklearn-color-background: var(--sg-background-color, var(--theme-background, var(--jp-layout-color0, white)));\n",
       "  --sklearn-color-border-box: var(--sg-text-color, var(--theme-code-foreground, var(--jp-content-font-color1, black)));\n",
       "  --sklearn-color-icon: #696969;\n",
       "\n",
       "  @media (prefers-color-scheme: dark) {\n",
       "    /* Redefinition of color scheme for dark theme */\n",
       "    --sklearn-color-text-on-default-background: var(--sg-text-color, var(--theme-code-foreground, var(--jp-content-font-color1, white)));\n",
       "    --sklearn-color-background: var(--sg-background-color, var(--theme-background, var(--jp-layout-color0, #111)));\n",
       "    --sklearn-color-border-box: var(--sg-text-color, var(--theme-code-foreground, var(--jp-content-font-color1, white)));\n",
       "    --sklearn-color-icon: #878787;\n",
       "  }\n",
       "}\n",
       "\n",
       "#sk-container-id-1 {\n",
       "  color: var(--sklearn-color-text);\n",
       "}\n",
       "\n",
       "#sk-container-id-1 pre {\n",
       "  padding: 0;\n",
       "}\n",
       "\n",
       "#sk-container-id-1 input.sk-hidden--visually {\n",
       "  border: 0;\n",
       "  clip: rect(1px 1px 1px 1px);\n",
       "  clip: rect(1px, 1px, 1px, 1px);\n",
       "  height: 1px;\n",
       "  margin: -1px;\n",
       "  overflow: hidden;\n",
       "  padding: 0;\n",
       "  position: absolute;\n",
       "  width: 1px;\n",
       "}\n",
       "\n",
       "#sk-container-id-1 div.sk-dashed-wrapped {\n",
       "  border: 1px dashed var(--sklearn-color-line);\n",
       "  margin: 0 0.4em 0.5em 0.4em;\n",
       "  box-sizing: border-box;\n",
       "  padding-bottom: 0.4em;\n",
       "  background-color: var(--sklearn-color-background);\n",
       "}\n",
       "\n",
       "#sk-container-id-1 div.sk-container {\n",
       "  /* jupyter's `normalize.less` sets `[hidden] { display: none; }`\n",
       "     but bootstrap.min.css set `[hidden] { display: none !important; }`\n",
       "     so we also need the `!important` here to be able to override the\n",
       "     default hidden behavior on the sphinx rendered scikit-learn.org.\n",
       "     See: https://github.com/scikit-learn/scikit-learn/issues/21755 */\n",
       "  display: inline-block !important;\n",
       "  position: relative;\n",
       "}\n",
       "\n",
       "#sk-container-id-1 div.sk-text-repr-fallback {\n",
       "  display: none;\n",
       "}\n",
       "\n",
       "div.sk-parallel-item,\n",
       "div.sk-serial,\n",
       "div.sk-item {\n",
       "  /* draw centered vertical line to link estimators */\n",
       "  background-image: linear-gradient(var(--sklearn-color-text-on-default-background), var(--sklearn-color-text-on-default-background));\n",
       "  background-size: 2px 100%;\n",
       "  background-repeat: no-repeat;\n",
       "  background-position: center center;\n",
       "}\n",
       "\n",
       "/* Parallel-specific style estimator block */\n",
       "\n",
       "#sk-container-id-1 div.sk-parallel-item::after {\n",
       "  content: \"\";\n",
       "  width: 100%;\n",
       "  border-bottom: 2px solid var(--sklearn-color-text-on-default-background);\n",
       "  flex-grow: 1;\n",
       "}\n",
       "\n",
       "#sk-container-id-1 div.sk-parallel {\n",
       "  display: flex;\n",
       "  align-items: stretch;\n",
       "  justify-content: center;\n",
       "  background-color: var(--sklearn-color-background);\n",
       "  position: relative;\n",
       "}\n",
       "\n",
       "#sk-container-id-1 div.sk-parallel-item {\n",
       "  display: flex;\n",
       "  flex-direction: column;\n",
       "}\n",
       "\n",
       "#sk-container-id-1 div.sk-parallel-item:first-child::after {\n",
       "  align-self: flex-end;\n",
       "  width: 50%;\n",
       "}\n",
       "\n",
       "#sk-container-id-1 div.sk-parallel-item:last-child::after {\n",
       "  align-self: flex-start;\n",
       "  width: 50%;\n",
       "}\n",
       "\n",
       "#sk-container-id-1 div.sk-parallel-item:only-child::after {\n",
       "  width: 0;\n",
       "}\n",
       "\n",
       "/* Serial-specific style estimator block */\n",
       "\n",
       "#sk-container-id-1 div.sk-serial {\n",
       "  display: flex;\n",
       "  flex-direction: column;\n",
       "  align-items: center;\n",
       "  background-color: var(--sklearn-color-background);\n",
       "  padding-right: 1em;\n",
       "  padding-left: 1em;\n",
       "}\n",
       "\n",
       "\n",
       "/* Toggleable style: style used for estimator/Pipeline/ColumnTransformer box that is\n",
       "clickable and can be expanded/collapsed.\n",
       "- Pipeline and ColumnTransformer use this feature and define the default style\n",
       "- Estimators will overwrite some part of the style using the `sk-estimator` class\n",
       "*/\n",
       "\n",
       "/* Pipeline and ColumnTransformer style (default) */\n",
       "\n",
       "#sk-container-id-1 div.sk-toggleable {\n",
       "  /* Default theme specific background. It is overwritten whether we have a\n",
       "  specific estimator or a Pipeline/ColumnTransformer */\n",
       "  background-color: var(--sklearn-color-background);\n",
       "}\n",
       "\n",
       "/* Toggleable label */\n",
       "#sk-container-id-1 label.sk-toggleable__label {\n",
       "  cursor: pointer;\n",
       "  display: block;\n",
       "  width: 100%;\n",
       "  margin-bottom: 0;\n",
       "  padding: 0.5em;\n",
       "  box-sizing: border-box;\n",
       "  text-align: center;\n",
       "}\n",
       "\n",
       "#sk-container-id-1 label.sk-toggleable__label-arrow:before {\n",
       "  /* Arrow on the left of the label */\n",
       "  content: \"▸\";\n",
       "  float: left;\n",
       "  margin-right: 0.25em;\n",
       "  color: var(--sklearn-color-icon);\n",
       "}\n",
       "\n",
       "#sk-container-id-1 label.sk-toggleable__label-arrow:hover:before {\n",
       "  color: var(--sklearn-color-text);\n",
       "}\n",
       "\n",
       "/* Toggleable content - dropdown */\n",
       "\n",
       "#sk-container-id-1 div.sk-toggleable__content {\n",
       "  max-height: 0;\n",
       "  max-width: 0;\n",
       "  overflow: hidden;\n",
       "  text-align: left;\n",
       "  /* unfitted */\n",
       "  background-color: var(--sklearn-color-unfitted-level-0);\n",
       "}\n",
       "\n",
       "#sk-container-id-1 div.sk-toggleable__content.fitted {\n",
       "  /* fitted */\n",
       "  background-color: var(--sklearn-color-fitted-level-0);\n",
       "}\n",
       "\n",
       "#sk-container-id-1 div.sk-toggleable__content pre {\n",
       "  margin: 0.2em;\n",
       "  border-radius: 0.25em;\n",
       "  color: var(--sklearn-color-text);\n",
       "  /* unfitted */\n",
       "  background-color: var(--sklearn-color-unfitted-level-0);\n",
       "}\n",
       "\n",
       "#sk-container-id-1 div.sk-toggleable__content.fitted pre {\n",
       "  /* unfitted */\n",
       "  background-color: var(--sklearn-color-fitted-level-0);\n",
       "}\n",
       "\n",
       "#sk-container-id-1 input.sk-toggleable__control:checked~div.sk-toggleable__content {\n",
       "  /* Expand drop-down */\n",
       "  max-height: 200px;\n",
       "  max-width: 100%;\n",
       "  overflow: auto;\n",
       "}\n",
       "\n",
       "#sk-container-id-1 input.sk-toggleable__control:checked~label.sk-toggleable__label-arrow:before {\n",
       "  content: \"▾\";\n",
       "}\n",
       "\n",
       "/* Pipeline/ColumnTransformer-specific style */\n",
       "\n",
       "#sk-container-id-1 div.sk-label input.sk-toggleable__control:checked~label.sk-toggleable__label {\n",
       "  color: var(--sklearn-color-text);\n",
       "  background-color: var(--sklearn-color-unfitted-level-2);\n",
       "}\n",
       "\n",
       "#sk-container-id-1 div.sk-label.fitted input.sk-toggleable__control:checked~label.sk-toggleable__label {\n",
       "  background-color: var(--sklearn-color-fitted-level-2);\n",
       "}\n",
       "\n",
       "/* Estimator-specific style */\n",
       "\n",
       "/* Colorize estimator box */\n",
       "#sk-container-id-1 div.sk-estimator input.sk-toggleable__control:checked~label.sk-toggleable__label {\n",
       "  /* unfitted */\n",
       "  background-color: var(--sklearn-color-unfitted-level-2);\n",
       "}\n",
       "\n",
       "#sk-container-id-1 div.sk-estimator.fitted input.sk-toggleable__control:checked~label.sk-toggleable__label {\n",
       "  /* fitted */\n",
       "  background-color: var(--sklearn-color-fitted-level-2);\n",
       "}\n",
       "\n",
       "#sk-container-id-1 div.sk-label label.sk-toggleable__label,\n",
       "#sk-container-id-1 div.sk-label label {\n",
       "  /* The background is the default theme color */\n",
       "  color: var(--sklearn-color-text-on-default-background);\n",
       "}\n",
       "\n",
       "/* On hover, darken the color of the background */\n",
       "#sk-container-id-1 div.sk-label:hover label.sk-toggleable__label {\n",
       "  color: var(--sklearn-color-text);\n",
       "  background-color: var(--sklearn-color-unfitted-level-2);\n",
       "}\n",
       "\n",
       "/* Label box, darken color on hover, fitted */\n",
       "#sk-container-id-1 div.sk-label.fitted:hover label.sk-toggleable__label.fitted {\n",
       "  color: var(--sklearn-color-text);\n",
       "  background-color: var(--sklearn-color-fitted-level-2);\n",
       "}\n",
       "\n",
       "/* Estimator label */\n",
       "\n",
       "#sk-container-id-1 div.sk-label label {\n",
       "  font-family: monospace;\n",
       "  font-weight: bold;\n",
       "  display: inline-block;\n",
       "  line-height: 1.2em;\n",
       "}\n",
       "\n",
       "#sk-container-id-1 div.sk-label-container {\n",
       "  text-align: center;\n",
       "}\n",
       "\n",
       "/* Estimator-specific */\n",
       "#sk-container-id-1 div.sk-estimator {\n",
       "  font-family: monospace;\n",
       "  border: 1px dotted var(--sklearn-color-border-box);\n",
       "  border-radius: 0.25em;\n",
       "  box-sizing: border-box;\n",
       "  margin-bottom: 0.5em;\n",
       "  /* unfitted */\n",
       "  background-color: var(--sklearn-color-unfitted-level-0);\n",
       "}\n",
       "\n",
       "#sk-container-id-1 div.sk-estimator.fitted {\n",
       "  /* fitted */\n",
       "  background-color: var(--sklearn-color-fitted-level-0);\n",
       "}\n",
       "\n",
       "/* on hover */\n",
       "#sk-container-id-1 div.sk-estimator:hover {\n",
       "  /* unfitted */\n",
       "  background-color: var(--sklearn-color-unfitted-level-2);\n",
       "}\n",
       "\n",
       "#sk-container-id-1 div.sk-estimator.fitted:hover {\n",
       "  /* fitted */\n",
       "  background-color: var(--sklearn-color-fitted-level-2);\n",
       "}\n",
       "\n",
       "/* Specification for estimator info (e.g. \"i\" and \"?\") */\n",
       "\n",
       "/* Common style for \"i\" and \"?\" */\n",
       "\n",
       ".sk-estimator-doc-link,\n",
       "a:link.sk-estimator-doc-link,\n",
       "a:visited.sk-estimator-doc-link {\n",
       "  float: right;\n",
       "  font-size: smaller;\n",
       "  line-height: 1em;\n",
       "  font-family: monospace;\n",
       "  background-color: var(--sklearn-color-background);\n",
       "  border-radius: 1em;\n",
       "  height: 1em;\n",
       "  width: 1em;\n",
       "  text-decoration: none !important;\n",
       "  margin-left: 1ex;\n",
       "  /* unfitted */\n",
       "  border: var(--sklearn-color-unfitted-level-1) 1pt solid;\n",
       "  color: var(--sklearn-color-unfitted-level-1);\n",
       "}\n",
       "\n",
       ".sk-estimator-doc-link.fitted,\n",
       "a:link.sk-estimator-doc-link.fitted,\n",
       "a:visited.sk-estimator-doc-link.fitted {\n",
       "  /* fitted */\n",
       "  border: var(--sklearn-color-fitted-level-1) 1pt solid;\n",
       "  color: var(--sklearn-color-fitted-level-1);\n",
       "}\n",
       "\n",
       "/* On hover */\n",
       "div.sk-estimator:hover .sk-estimator-doc-link:hover,\n",
       ".sk-estimator-doc-link:hover,\n",
       "div.sk-label-container:hover .sk-estimator-doc-link:hover,\n",
       ".sk-estimator-doc-link:hover {\n",
       "  /* unfitted */\n",
       "  background-color: var(--sklearn-color-unfitted-level-3);\n",
       "  color: var(--sklearn-color-background);\n",
       "  text-decoration: none;\n",
       "}\n",
       "\n",
       "div.sk-estimator.fitted:hover .sk-estimator-doc-link.fitted:hover,\n",
       ".sk-estimator-doc-link.fitted:hover,\n",
       "div.sk-label-container:hover .sk-estimator-doc-link.fitted:hover,\n",
       ".sk-estimator-doc-link.fitted:hover {\n",
       "  /* fitted */\n",
       "  background-color: var(--sklearn-color-fitted-level-3);\n",
       "  color: var(--sklearn-color-background);\n",
       "  text-decoration: none;\n",
       "}\n",
       "\n",
       "/* Span, style for the box shown on hovering the info icon */\n",
       ".sk-estimator-doc-link span {\n",
       "  display: none;\n",
       "  z-index: 9999;\n",
       "  position: relative;\n",
       "  font-weight: normal;\n",
       "  right: .2ex;\n",
       "  padding: .5ex;\n",
       "  margin: .5ex;\n",
       "  width: min-content;\n",
       "  min-width: 20ex;\n",
       "  max-width: 50ex;\n",
       "  color: var(--sklearn-color-text);\n",
       "  box-shadow: 2pt 2pt 4pt #999;\n",
       "  /* unfitted */\n",
       "  background: var(--sklearn-color-unfitted-level-0);\n",
       "  border: .5pt solid var(--sklearn-color-unfitted-level-3);\n",
       "}\n",
       "\n",
       ".sk-estimator-doc-link.fitted span {\n",
       "  /* fitted */\n",
       "  background: var(--sklearn-color-fitted-level-0);\n",
       "  border: var(--sklearn-color-fitted-level-3);\n",
       "}\n",
       "\n",
       ".sk-estimator-doc-link:hover span {\n",
       "  display: block;\n",
       "}\n",
       "\n",
       "/* \"?\"-specific style due to the `<a>` HTML tag */\n",
       "\n",
       "#sk-container-id-1 a.estimator_doc_link {\n",
       "  float: right;\n",
       "  font-size: 1rem;\n",
       "  line-height: 1em;\n",
       "  font-family: monospace;\n",
       "  background-color: var(--sklearn-color-background);\n",
       "  border-radius: 1rem;\n",
       "  height: 1rem;\n",
       "  width: 1rem;\n",
       "  text-decoration: none;\n",
       "  /* unfitted */\n",
       "  color: var(--sklearn-color-unfitted-level-1);\n",
       "  border: var(--sklearn-color-unfitted-level-1) 1pt solid;\n",
       "}\n",
       "\n",
       "#sk-container-id-1 a.estimator_doc_link.fitted {\n",
       "  /* fitted */\n",
       "  border: var(--sklearn-color-fitted-level-1) 1pt solid;\n",
       "  color: var(--sklearn-color-fitted-level-1);\n",
       "}\n",
       "\n",
       "/* On hover */\n",
       "#sk-container-id-1 a.estimator_doc_link:hover {\n",
       "  /* unfitted */\n",
       "  background-color: var(--sklearn-color-unfitted-level-3);\n",
       "  color: var(--sklearn-color-background);\n",
       "  text-decoration: none;\n",
       "}\n",
       "\n",
       "#sk-container-id-1 a.estimator_doc_link.fitted:hover {\n",
       "  /* fitted */\n",
       "  background-color: var(--sklearn-color-fitted-level-3);\n",
       "}\n",
       "</style><div id=\"sk-container-id-1\" class=\"sk-top-container\"><div class=\"sk-text-repr-fallback\"><pre>KMeans(init=&#x27;random&#x27;, n_init=10, random_state=0)</pre><b>In a Jupyter environment, please rerun this cell to show the HTML representation or trust the notebook. <br />On GitHub, the HTML representation is unable to render, please try loading this page with nbviewer.org.</b></div><div class=\"sk-container\" hidden><div class=\"sk-item\"><div class=\"sk-estimator fitted sk-toggleable\"><input class=\"sk-toggleable__control sk-hidden--visually\" id=\"sk-estimator-id-1\" type=\"checkbox\" checked><label for=\"sk-estimator-id-1\" class=\"sk-toggleable__label fitted sk-toggleable__label-arrow fitted\">&nbsp;&nbsp;KMeans<a class=\"sk-estimator-doc-link fitted\" rel=\"noreferrer\" target=\"_blank\" href=\"https://scikit-learn.org/1.4/modules/generated/sklearn.cluster.KMeans.html\">?<span>Documentation for KMeans</span></a><span class=\"sk-estimator-doc-link fitted\">i<span>Fitted</span></span></label><div class=\"sk-toggleable__content fitted\"><pre>KMeans(init=&#x27;random&#x27;, n_init=10, random_state=0)</pre></div> </div></div></div></div>"
      ],
      "text/plain": [
       "KMeans(init='random', n_init=10, random_state=0)"
      ]
     },
     "execution_count": 6,
     "metadata": {},
     "output_type": "execute_result"
    }
   ],
   "source": [
    "km.fit(X)"
   ]
  },
  {
   "cell_type": "code",
   "execution_count": 7,
   "metadata": {},
   "outputs": [
    {
     "data": {
      "text/plain": [
       "array([3, 7, 7, 7, 5, 2, 2, 5, 4, 2, 3, 0, 4, 7, 7, 4, 4, 5, 4, 5, 7, 3,\n",
       "       6, 2, 0, 5, 3, 6, 4, 1, 4, 4, 0, 4, 7, 1, 3, 1, 7, 2, 0, 4, 7, 5,\n",
       "       3, 5, 0, 6, 0, 6, 1, 2, 2, 5, 3, 0, 7, 3, 0, 6, 4, 0, 4, 4, 6, 0,\n",
       "       2, 1, 7, 2, 6, 1, 3, 2, 1, 7, 6, 4, 0, 2, 1, 5, 7, 2, 3, 3, 3, 4,\n",
       "       4, 5, 5, 7, 1, 2, 1, 6, 4, 4, 1, 1, 1, 3, 4, 5, 1, 2, 4, 6, 2, 7,\n",
       "       0, 7, 1, 0, 2, 4, 2, 6, 0, 4, 7, 3, 7, 7, 1, 1, 0, 5, 4, 0, 0, 0,\n",
       "       1, 4, 4, 0, 7, 4, 1, 4, 6, 6, 5, 5, 0, 4, 4, 4, 5, 5])"
      ]
     },
     "execution_count": 7,
     "metadata": {},
     "output_type": "execute_result"
    }
   ],
   "source": [
    "km.labels_"
   ]
  },
  {
   "cell_type": "code",
   "execution_count": 8,
   "metadata": {},
   "outputs": [
    {
     "data": {
      "text/plain": [
       "array([[-1.12403887,  2.83464449],\n",
       "       [ 1.64408885,  1.24937968],\n",
       "       [ 1.01385898,  4.83077279],\n",
       "       [ 2.62545249,  1.25500766],\n",
       "       [-1.90852376,  2.98085311],\n",
       "       [ 2.07452049,  0.39766961],\n",
       "       [ 1.46197452,  3.97525547],\n",
       "       [ 0.52034918,  4.19544488]])"
      ]
     },
     "execution_count": 8,
     "metadata": {},
     "output_type": "execute_result"
    }
   ],
   "source": [
    "km.cluster_centers_"
   ]
  },
  {
   "cell_type": "code",
   "execution_count": 9,
   "metadata": {},
   "outputs": [
    {
     "data": {
      "text/plain": [
       "<matplotlib.collections.PathCollection at 0x2291bacd9d0>"
      ]
     },
     "execution_count": 9,
     "metadata": {},
     "output_type": "execute_result"
    },
    {
     "data": {
      "image/png": "[encoded data removed]",
      "text/plain": [
       "<Figure size 640x480 with 1 Axes>"
      ]
     },
     "metadata": {},
     "output_type": "display_data"
    }
   ],
   "source": [
    "plt.scatter(X[:,0],X[:,1],c=km.labels_)"
   ]
  },
  {
   "cell_type": "code",
   "execution_count": 10,
   "metadata": {},
   "outputs": [
    {
     "data": {
      "text/plain": [
       "<matplotlib.collections.PathCollection at 0x2291f1a4b90>"
      ]
     },
     "execution_count": 10,
     "metadata": {},
     "output_type": "execute_result"
    },
    {
     "data": {
      "image/png": "[encoded data removed]",
      "text/plain": [
       "<Figure size 640x480 with 1 Axes>"
      ]
     },
     "metadata": {},
     "output_type": "display_data"
    }
   ],
   "source": [
    "plt.scatter(X[:,0],X[:,1],c=km.labels_)\n",
    "plt.scatter(km.cluster_centers_[:,0],km.cluster_centers_[:,1],marker='+',s=150,c='r')"
   ]
  },
  {
   "cell_type": "code",
   "execution_count": 11,
   "metadata": {},
   "outputs": [],
   "source": [
    "objs_for_all_k= []\n",
    "for k in range(1,11):\n",
    "    km=KMeans(n_clusters=k,init='random',n_init=10,max_iter=300,tol=0.0001,random_state=0)\n",
    "    km.fit(X)\n",
    "    objs_for_all_k.append(km.inertia_)"
   ]
  },
  {
   "cell_type": "code",
   "execution_count": 12,
   "metadata": {},
   "outputs": [
    {
     "data": {
      "text/plain": [
       "Text(0, 0.5, 'obj')"
      ]
     },
     "execution_count": 12,
     "metadata": {},
     "output_type": "execute_result"
    },
    {
     "data": {
      "image/png": "[encoded data removed]",
      "text/plain": [
       "<Figure size 640x480 with 1 Axes>"
      ]
     },
     "metadata": {},
     "output_type": "display_data"
    }
   ],
   "source": [
    "plt.plot(range(1,11),objs_for_all_k,'o-')\n",
    "plt.xlabel('k')\n",
    "plt.xticks(range(1,11))\n",
    "plt.ylabel('obj')"
   ]
  },
  {
   "cell_type": "code",
   "execution_count": 15,
   "metadata": {},
   "outputs": [],
   "source": [
    "from sklearn.metrics import silhouette_score"
   ]
  },
  {
   "cell_type": "code",
   "execution_count": 16,
   "metadata": {},
   "outputs": [
    {
     "data": {
      "text/plain": [
       "0.5848706144251782"
      ]
     },
     "execution_count": 16,
     "metadata": {},
     "output_type": "execute_result"
    }
   ],
   "source": [
    "silhouette_score(X,km.labels_)"
   ]
  },
  {
   "cell_type": "code",
   "execution_count": 17,
   "metadata": {},
   "outputs": [],
   "source": [
    "SS=[]\n",
    "for k in range(2,11):\n",
    "    km=KMeans(n_clusters=k,init='random',n_init=10,max_iter=300,tol=0.0001,random_state=0)\n",
    "    km.fit(X)\n",
    "    SS.append(silhouette_score(X,km.labels_))"
   ]
  },
  {
   "cell_type": "code",
   "execution_count": 18,
   "metadata": {},
   "outputs": [
    {
     "data": {
      "text/plain": [
       "Text(0, 0.5, 'SS')"
      ]
     },
     "execution_count": 18,
     "metadata": {},
     "output_type": "execute_result"
    },
    {
     "data": {
      "image/png": "[encoded data removed]",
      "text/plain": [
       "<Figure size 640x480 with 1 Axes>"
      ]
     },
     "metadata": {},
     "output_type": "display_data"
    }
   ],
   "source": [
    "plt.plot(range(2,11),SS,'o-')\n",
    "plt.plot(range(1,11),objs_for_all_k,'o-')\n",
    "plt.xlabel('k')\n",
    "plt.xticks(range(2,11))\n",
    "plt.ylabel('SS')"
   ]
  },
  {
   "cell_type": "code",
   "execution_count": 19,
   "metadata": {},
   "outputs": [],
   "source": [
    "#apyori  #Association Rule Mining\n",
    "from apyori import apriori"
   ]
  },
  {
   "cell_type": "code",
   "execution_count": 20,
   "metadata": {},
   "outputs": [],
   "source": [
    "dataset = [['Milk', 'Bread', 'Eggs'],\n",
    "           ['Milk', 'Bread'],\n",
    "           ['Milk', 'Eggs'],\n",
    "           ['Milk', 'Bread', 'Veggies'],\n",
    "           ['Bread', 'Eggs']]"
   ]
  },
  {
   "cell_type": "code",
   "execution_count": 21,
   "metadata": {},
   "outputs": [],
   "source": [
    "rules=apriori(dataset,min_support = 0.4,min_confidence = 0.5,min_lift=1.0)"
   ]
  },
  {
   "cell_type": "code",
   "execution_count": 22,
   "metadata": {},
   "outputs": [],
   "source": [
    "results1=list(rules)"
   ]
  },
  {
   "cell_type": "code",
   "execution_count": 23,
   "metadata": {},
   "outputs": [
    {
     "data": {
      "text/plain": [
       "[RelationRecord(items=frozenset({'Bread'}), support=0.8, ordered_statistics=[OrderedStatistic(items_base=frozenset(), items_add=frozenset({'Bread'}), confidence=0.8, lift=1.0)]),\n",
       " RelationRecord(items=frozenset({'Eggs'}), support=0.6, ordered_statistics=[OrderedStatistic(items_base=frozenset(), items_add=frozenset({'Eggs'}), confidence=0.6, lift=1.0)]),\n",
       " RelationRecord(items=frozenset({'Milk'}), support=0.8, ordered_statistics=[OrderedStatistic(items_base=frozenset(), items_add=frozenset({'Milk'}), confidence=0.8, lift=1.0)]),\n",
       " RelationRecord(items=frozenset({'Milk', 'Bread'}), support=0.6, ordered_statistics=[OrderedStatistic(items_base=frozenset(), items_add=frozenset({'Milk', 'Bread'}), confidence=0.6, lift=1.0)])]"
      ]
     },
     "execution_count": 23,
     "metadata": {},
     "output_type": "execute_result"
    }
   ],
   "source": [
    "results1"
   ]
  },
  {
   "cell_type": "code",
   "execution_count": 24,
   "metadata": {},
   "outputs": [
    {
     "name": "stdout",
     "output_type": "stream",
     "text": [
      "[array([[ 2.60509732,  1.22529553],\n",
      "       [ 0.5323772 ,  3.31338909],\n",
      "       [ 0.802314  ,  4.38196181],\n",
      "       [ 0.5285368 ,  4.49723858],\n",
      "       [ 2.61858548,  0.35769791],\n",
      "       [ 1.59141542,  4.90497725],\n",
      "       [ 1.74265969,  5.03846671],\n",
      "       [ 2.37533328,  0.08918564],\n",
      "       [-2.12133364,  2.66447408],\n",
      "       [ 1.72039618,  5.25173192],\n",
      "       [ 3.1368855 ,  1.56592763],\n",
      "       [-0.37494566,  2.38787435],\n",
      "       [-1.84562253,  2.71924635],\n",
      "       [ 0.72144399,  4.08475018],\n",
      "       [ 0.16117091,  4.53517846],\n",
      "       [-1.99912714,  2.71285741],\n",
      "       [-1.47804153,  3.2093591 ],\n",
      "       [ 1.8706766 ,  0.77797407],\n",
      "       [-1.5933443 ,  2.76898682],\n",
      "       [ 2.03562611,  0.31361691],\n",
      "       [ 0.64003985,  4.12401075],\n",
      "       [ 2.4411628 ,  1.30941574],\n",
      "       [ 1.13280393,  3.87673946],\n",
      "       [ 1.04829186,  5.03092408],\n",
      "       [-1.26637157,  2.62998828],\n",
      "       [ 2.31690585,  0.81189049],\n",
      "       [ 2.36230721,  1.358767  ],\n",
      "       [ 1.2091013 ,  3.53566548],\n",
      "       [-2.54224625,  3.95012869],\n",
      "       [ 1.4815332 ,  0.67875364],\n",
      "       [-1.59487886,  3.48632794],\n",
      "       [-1.82556205,  2.7989214 ],\n",
      "       [-1.13374003,  2.68467271],\n",
      "       [-1.758702  ,  3.158623  ],\n",
      "       [ 0.3498724 ,  4.69253251],\n",
      "       [ 1.68548602,  1.66917096],\n",
      "       [ 2.989047  ,  1.35068599],\n",
      "       [ 1.73734448,  1.23588031],\n",
      "       [ 0.65910903,  4.12241674],\n",
      "       [ 1.15445328,  4.65707391],\n",
      "       [-1.32738084,  1.53158588],\n",
      "       [-1.6814105 ,  2.07988036],\n",
      "       [ 0.34102758,  4.78848568],\n",
      "       [ 1.87827057,  0.21018801],\n",
      "       [ 2.13860427,  1.21517938],\n",
      "       [ 2.48368283,  0.57215086],\n",
      "       [-1.18113464,  3.26525683],\n",
      "       [ 2.11114739,  3.57660449],\n",
      "       [-1.19371247,  2.68752237],\n",
      "       [ 1.45131429,  4.22810872],\n",
      "       [ 1.83769075,  1.82229552],\n",
      "       [ 0.44089377,  4.83101319],\n",
      "       [ 1.08040757,  4.79210685],\n",
      "       [ 1.84845803,  0.52393625],\n",
      "       [ 2.3914149 ,  1.10139458],\n",
      "       [-1.44865074,  3.03397278],\n",
      "       [ 0.72086751,  3.71347124],\n",
      "       [ 3.01673853,  1.63792106],\n",
      "       [-1.18199493,  3.56880538],\n",
      "       [ 1.34081536,  4.36827878],\n",
      "       [-2.31837321,  3.22307195],\n",
      "       [-0.54894786,  3.11292892],\n",
      "       [-1.6823471 ,  2.96658234],\n",
      "       [-1.53541422,  3.10745813],\n",
      "       [ 1.06498315,  4.10289686],\n",
      "       [-0.39724954,  2.89675369],\n",
      "       [ 1.03972612,  4.50478201],\n",
      "       [ 1.62465468,  1.85269614],\n",
      "       [-0.30022483,  4.63059663],\n",
      "       [ 0.12313498,  5.27917503],\n",
      "       [ 1.54597042,  3.68637442],\n",
      "       [ 1.44254976,  1.31984515],\n",
      "       [ 2.52889351,  0.82015861],\n",
      "       [ 0.38970838,  5.27559792],\n",
      "       [ 1.5381461 ,  1.23846092],\n",
      "       [ 0.82049381,  4.33187   ],\n",
      "       [ 1.56565986,  4.21382491],\n",
      "       [-1.93358614,  2.1846701 ],\n",
      "       [-1.38373217,  3.22230418],\n",
      "       [ 0.96217896,  4.51795326],\n",
      "       [ 1.71810119,  0.91357894],\n",
      "       [ 1.65356269,  0.55288877],\n",
      "       [ 0.4519936 ,  3.59377836],\n",
      "       [ 1.19820169,  4.47062449],\n",
      "       [ 2.20438661,  1.56085661],\n",
      "       [ 3.24683991,  1.3699034 ],\n",
      "       [ 2.51569693,  1.05702749],\n",
      "       [-1.79833475,  3.12590728],\n",
      "       [-2.0495307 ,  3.52345491],\n",
      "       [ 2.36788325,  0.09663483],\n",
      "       [ 2.24348029,  0.34796326],\n",
      "       [ 0.99914934,  4.2101954 ],\n",
      "       [ 1.30963873,  1.11735951],\n",
      "       [ 0.77468161,  4.91500986],\n",
      "       [ 1.70798359,  0.82284639],\n",
      "       [ 1.91784543,  3.6299078 ],\n",
      "       [-2.00487651,  2.74489137],\n",
      "       [-2.10499523,  3.30848131],\n",
      "       [ 1.39731382,  0.66687136],\n",
      "       [ 2.02114672,  1.75433502],\n",
      "       [ 1.67030948,  1.16728826],\n",
      "       [ 2.52997792,  0.94143928],\n",
      "       [-2.18016744,  3.7469476 ],\n",
      "       [ 2.00604126,  0.56592452],\n",
      "       [ 1.50307585,  0.9237462 ],\n",
      "       [ 1.05374379,  4.49286859],\n",
      "       [-1.72662853,  3.10291021],\n",
      "       [ 1.72330962,  4.2012082 ],\n",
      "       [ 0.92466065,  4.50908658],\n",
      "       [ 0.39369516,  4.75420057],\n",
      "       [-1.31377465,  3.25633628],\n",
      "       [ 0.78260667,  4.15263595],\n",
      "       [ 1.82750127,  0.90640324],\n",
      "       [-1.2649585 ,  2.9620933 ],\n",
      "       [ 0.98152009,  5.19672257],\n",
      "       [-2.49504392,  3.01227156],\n",
      "       [ 1.00952869,  4.45502328],\n",
      "       [ 1.40848818,  3.93270482],\n",
      "       [-1.28003312,  2.85983029],\n",
      "       [-1.82506103,  2.89159861],\n",
      "       [ 0.5408715 ,  4.0143625 ],\n",
      "       [ 2.64928242,  1.05613497],\n",
      "       [ 0.5226209 ,  4.32976003],\n",
      "       [ 0.16932115,  4.19741719],\n",
      "       [ 1.8062513 ,  1.86242969],\n",
      "       [ 1.92126584,  1.29889186],\n",
      "       [-1.53906708,  2.54886681],\n",
      "       [ 1.68289011,  0.48444439],\n",
      "       [-2.29730252,  2.94951326],\n",
      "       [-1.45592743,  2.75821805],\n",
      "       [-1.38694171,  2.86880707],\n",
      "       [-1.07181456,  3.07649137],\n",
      "       [ 1.40883907,  1.03118909],\n",
      "       [-1.58598604,  2.57779316],\n",
      "       [-1.58217434,  3.42796862],\n",
      "       [-0.77966174,  1.88288975],\n",
      "       [ 0.56969694,  3.44064603],\n",
      "       [-1.8531083 ,  2.72240557],\n",
      "       [ 1.59885641,  1.4561718 ],\n",
      "       [-1.84094779,  2.6773687 ],\n",
      "       [ 1.35678894,  4.36462484],\n",
      "       [ 1.1774409 ,  3.96138228],\n",
      "       [ 1.73345832, -0.21403792],\n",
      "       [ 2.34356293,  0.79351428],\n",
      "       [-0.95073823,  3.45769156],\n",
      "       [-2.23893447,  2.67122232],\n",
      "       [-1.87292894,  3.68607079],\n",
      "       [-1.8897027 ,  2.22620028],\n",
      "       [ 2.25327088,  0.35113291],\n",
      "       [ 1.55515985,  0.12527811]]), array([[ 2.60509732,  1.22529553],\n",
      "       [ 0.5323772 ,  3.31338909],\n",
      "       [ 0.802314  ,  4.38196181],\n",
      "       [ 0.5285368 ,  4.49723858],\n",
      "       [ 2.61858548,  0.35769791],\n",
      "       [ 1.59141542,  4.90497725],\n",
      "       [ 1.74265969,  5.03846671],\n",
      "       [ 2.37533328,  0.08918564],\n",
      "       [-2.12133364,  2.66447408],\n",
      "       [ 1.72039618,  5.25173192],\n",
      "       [ 3.1368855 ,  1.56592763],\n",
      "       [-0.37494566,  2.38787435],\n",
      "       [-1.84562253,  2.71924635],\n",
      "       [ 0.72144399,  4.08475018],\n",
      "       [ 0.16117091,  4.53517846],\n",
      "       [-1.99912714,  2.71285741],\n",
      "       [-1.47804153,  3.2093591 ],\n",
      "       [ 1.8706766 ,  0.77797407],\n",
      "       [-1.5933443 ,  2.76898682],\n",
      "       [ 2.03562611,  0.31361691],\n",
      "       [ 0.64003985,  4.12401075],\n",
      "       [ 2.4411628 ,  1.30941574],\n",
      "       [ 1.13280393,  3.87673946],\n",
      "       [ 1.04829186,  5.03092408],\n",
      "       [-1.26637157,  2.62998828],\n",
      "       [ 2.31690585,  0.81189049],\n",
      "       [ 2.36230721,  1.358767  ],\n",
      "       [ 1.2091013 ,  3.53566548],\n",
      "       [-2.54224625,  3.95012869],\n",
      "       [ 1.4815332 ,  0.67875364],\n",
      "       [-1.59487886,  3.48632794],\n",
      "       [-1.82556205,  2.7989214 ],\n",
      "       [-1.13374003,  2.68467271],\n",
      "       [-1.758702  ,  3.158623  ],\n",
      "       [ 0.3498724 ,  4.69253251],\n",
      "       [ 1.68548602,  1.66917096],\n",
      "       [ 2.989047  ,  1.35068599],\n",
      "       [ 1.73734448,  1.23588031],\n",
      "       [ 0.65910903,  4.12241674],\n",
      "       [ 1.15445328,  4.65707391],\n",
      "       [-1.32738084,  1.53158588],\n",
      "       [-1.6814105 ,  2.07988036],\n",
      "       [ 0.34102758,  4.78848568],\n",
      "       [ 1.87827057,  0.21018801],\n",
      "       [ 2.13860427,  1.21517938],\n",
      "       [ 2.48368283,  0.57215086],\n",
      "       [-1.18113464,  3.26525683],\n",
      "       [ 2.11114739,  3.57660449],\n",
      "       [-1.19371247,  2.68752237],\n",
      "       [ 1.45131429,  4.22810872],\n",
      "       [ 1.83769075,  1.82229552],\n",
      "       [ 0.44089377,  4.83101319],\n",
      "       [ 1.08040757,  4.79210685],\n",
      "       [ 1.84845803,  0.52393625],\n",
      "       [ 2.3914149 ,  1.10139458],\n",
      "       [-1.44865074,  3.03397278],\n",
      "       [ 0.72086751,  3.71347124],\n",
      "       [ 3.01673853,  1.63792106],\n",
      "       [-1.18199493,  3.56880538],\n",
      "       [ 1.34081536,  4.36827878],\n",
      "       [-2.31837321,  3.22307195],\n",
      "       [-0.54894786,  3.11292892],\n",
      "       [-1.6823471 ,  2.96658234],\n",
      "       [-1.53541422,  3.10745813],\n",
      "       [ 1.06498315,  4.10289686],\n",
      "       [-0.39724954,  2.89675369],\n",
      "       [ 1.03972612,  4.50478201],\n",
      "       [ 1.62465468,  1.85269614],\n",
      "       [-0.30022483,  4.63059663],\n",
      "       [ 0.12313498,  5.27917503],\n",
      "       [ 1.54597042,  3.68637442],\n",
      "       [ 1.44254976,  1.31984515],\n",
      "       [ 2.52889351,  0.82015861],\n",
      "       [ 0.38970838,  5.27559792],\n",
      "       [ 1.5381461 ,  1.23846092],\n",
      "       [ 0.82049381,  4.33187   ],\n",
      "       [ 1.56565986,  4.21382491],\n",
      "       [-1.93358614,  2.1846701 ],\n",
      "       [-1.38373217,  3.22230418],\n",
      "       [ 0.96217896,  4.51795326],\n",
      "       [ 1.71810119,  0.91357894],\n",
      "       [ 1.65356269,  0.55288877],\n",
      "       [ 0.4519936 ,  3.59377836],\n",
      "       [ 1.19820169,  4.47062449],\n",
      "       [ 2.20438661,  1.56085661],\n",
      "       [ 3.24683991,  1.3699034 ],\n",
      "       [ 2.51569693,  1.05702749],\n",
      "       [-1.79833475,  3.12590728],\n",
      "       [-2.0495307 ,  3.52345491],\n",
      "       [ 2.36788325,  0.09663483],\n",
      "       [ 2.24348029,  0.34796326],\n",
      "       [ 0.99914934,  4.2101954 ],\n",
      "       [ 1.30963873,  1.11735951],\n",
      "       [ 0.77468161,  4.91500986],\n",
      "       [ 1.70798359,  0.82284639],\n",
      "       [ 1.91784543,  3.6299078 ],\n",
      "       [-2.00487651,  2.74489137],\n",
      "       [-2.10499523,  3.30848131],\n",
      "       [ 1.39731382,  0.66687136],\n",
      "       [ 2.02114672,  1.75433502],\n",
      "       [ 1.67030948,  1.16728826],\n",
      "       [ 2.52997792,  0.94143928],\n",
      "       [-2.18016744,  3.7469476 ],\n",
      "       [ 2.00604126,  0.56592452],\n",
      "       [ 1.50307585,  0.9237462 ],\n",
      "       [ 1.05374379,  4.49286859],\n",
      "       [-1.72662853,  3.10291021],\n",
      "       [ 1.72330962,  4.2012082 ],\n",
      "       [ 0.92466065,  4.50908658],\n",
      "       [ 0.39369516,  4.75420057],\n",
      "       [-1.31377465,  3.25633628],\n",
      "       [ 0.78260667,  4.15263595],\n",
      "       [ 1.82750127,  0.90640324],\n",
      "       [-1.2649585 ,  2.9620933 ],\n",
      "       [ 0.98152009,  5.19672257],\n",
      "       [-2.49504392,  3.01227156],\n",
      "       [ 1.00952869,  4.45502328],\n",
      "       [ 1.40848818,  3.93270482],\n",
      "       [-1.28003312,  2.85983029],\n",
      "       [-1.82506103,  2.89159861],\n",
      "       [ 0.5408715 ,  4.0143625 ],\n",
      "       [ 2.64928242,  1.05613497],\n",
      "       [ 0.5226209 ,  4.32976003],\n",
      "       [ 0.16932115,  4.19741719],\n",
      "       [ 1.8062513 ,  1.86242969],\n",
      "       [ 1.92126584,  1.29889186],\n",
      "       [-1.53906708,  2.54886681],\n",
      "       [ 1.68289011,  0.48444439],\n",
      "       [-2.29730252,  2.94951326],\n",
      "       [-1.45592743,  2.75821805],\n",
      "       [-1.38694171,  2.86880707],\n",
      "       [-1.07181456,  3.07649137],\n",
      "       [ 1.40883907,  1.03118909],\n",
      "       [-1.58598604,  2.57779316],\n",
      "       [-1.58217434,  3.42796862],\n",
      "       [-0.77966174,  1.88288975],\n",
      "       [ 0.56969694,  3.44064603],\n",
      "       [-1.8531083 ,  2.72240557],\n",
      "       [ 1.59885641,  1.4561718 ],\n",
      "       [-1.84094779,  2.6773687 ],\n",
      "       [ 1.35678894,  4.36462484],\n",
      "       [ 1.1774409 ,  3.96138228],\n",
      "       [ 1.73345832, -0.21403792],\n",
      "       [ 2.34356293,  0.79351428],\n",
      "       [-0.95073823,  3.45769156],\n",
      "       [-2.23893447,  2.67122232],\n",
      "       [-1.87292894,  3.68607079],\n",
      "       [-1.8897027 ,  2.22620028],\n",
      "       [ 2.25327088,  0.35113291],\n",
      "       [ 1.55515985,  0.12527811]])]\n",
      "0.6\n",
      "0.6\n",
      "1.0\n"
     ]
    }
   ],
   "source": [
    "for result in results1:\n",
    "    if len(result.items)>=2:\n",
    "        items= [X for x in result.items]\n",
    "        print(items)\n",
    "        print(result.support)\n",
    "        for each in result.ordered_statistics:\n",
    "            print(each.confidence)\n",
    "            print(each.lift)"
   ]
  },
  {
   "cell_type": "code",
   "execution_count": 25,
   "metadata": {},
   "outputs": [],
   "source": [
    "#Demo of PCA (Principal Component Analysis)\n",
    "\n",
    "from sklearn.datasets import load_iris\n"
   ]
  },
  {
   "cell_type": "code",
   "execution_count": 26,
   "metadata": {},
   "outputs": [],
   "source": [
    "X,y = load_iris(return_X_y = True, as_frame= True)"
   ]
  },
  {
   "cell_type": "code",
   "execution_count": 27,
   "metadata": {},
   "outputs": [],
   "source": [
    "from sklearn.preprocessing import StandardScaler"
   ]
  },
  {
   "cell_type": "code",
   "execution_count": 28,
   "metadata": {},
   "outputs": [],
   "source": [
    "std=StandardScaler()\n",
    "X_std = std.fit_transform(X)"
   ]
  },
  {
   "cell_type": "code",
   "execution_count": 29,
   "metadata": {},
   "outputs": [],
   "source": [
    "from sklearn.decomposition import PCA"
   ]
  },
  {
   "cell_type": "code",
   "execution_count": 30,
   "metadata": {},
   "outputs": [],
   "source": [
    "pca=PCA(n_components= 4)"
   ]
  },
  {
   "cell_type": "code",
   "execution_count": 31,
   "metadata": {},
   "outputs": [],
   "source": [
    "pca_features=pca.fit_transform(X_std)"
   ]
  },
  {
   "cell_type": "code",
   "execution_count": 32,
   "metadata": {},
   "outputs": [
    {
     "name": "stdout",
     "output_type": "stream",
     "text": [
      "Shape before PCA (150, 4)\n",
      "shape after PCA (150, 4)\n"
     ]
    }
   ],
   "source": [
    "print('Shape before PCA',X_std.shape)\n",
    "print('shape after PCA',pca_features.shape)\n"
   ]
  },
  {
   "cell_type": "code",
   "execution_count": 33,
   "metadata": {},
   "outputs": [],
   "source": [
    "import pandas as pd"
   ]
  },
  {
   "cell_type": "code",
   "execution_count": 34,
   "metadata": {},
   "outputs": [
    {
     "data": {
      "text/plain": [
       "array([2.93808505, 0.9201649 , 0.14774182, 0.02085386])"
      ]
     },
     "execution_count": 34,
     "metadata": {},
     "output_type": "execute_result"
    }
   ],
   "source": [
    "pca.explained_variance_"
   ]
  },
  {
   "cell_type": "code",
   "execution_count": 35,
   "metadata": {},
   "outputs": [
    {
     "data": {
      "text/plain": [
       "array([0.72962445, 0.22850762, 0.03668922, 0.00517871])"
      ]
     },
     "execution_count": 35,
     "metadata": {},
     "output_type": "execute_result"
    }
   ],
   "source": [
    "pca.explained_variance_ratio_"
   ]
  },
  {
   "cell_type": "code",
   "execution_count": 36,
   "metadata": {},
   "outputs": [
    {
     "data": {
      "text/plain": [
       "array([0.72962445, 0.95813207, 0.99482129, 1.        ])"
      ]
     },
     "execution_count": 36,
     "metadata": {},
     "output_type": "execute_result"
    }
   ],
   "source": [
    "import numpy as np\n",
    "np.cumsum(pca.explained_variance_ratio_)"
   ]
  },
  {
   "cell_type": "code",
   "execution_count": 37,
   "metadata": {},
   "outputs": [],
   "source": [
    "pca = PCA(n_components=4)\n",
    "X_pca=pca.fit_transform(X_std)"
   ]
  },
  {
   "cell_type": "code",
   "execution_count": 38,
   "metadata": {},
   "outputs": [
    {
     "name": "stdout",
     "output_type": "stream",
     "text": [
      "[[-2.26470281e+00  4.80026597e-01 -1.27706022e-01 -2.41682039e-02]\n",
      " [-2.08096115e+00 -6.74133557e-01 -2.34608854e-01 -1.03006775e-01]\n",
      " [-2.36422905e+00 -3.41908024e-01  4.42014848e-02 -2.83770534e-02]\n",
      " [-2.29938422e+00 -5.97394508e-01  9.12901063e-02  6.59555596e-02]\n",
      " [-2.38984217e+00  6.46835383e-01  1.57381957e-02  3.59228133e-02]\n",
      " [-2.07563095e+00  1.48917752e+00  2.69682944e-02 -6.60818022e-03]\n",
      " [-2.44402884e+00  4.76441976e-02  3.35470401e-01  3.67755572e-02]\n",
      " [-2.23284716e+00  2.23148073e-01 -8.86954979e-02  2.46120962e-02]\n",
      " [-2.33464048e+00 -1.11532768e+00  1.45076864e-01  2.68592208e-02]\n",
      " [-2.18432817e+00 -4.69013561e-01 -2.53765567e-01  3.98992877e-02]\n",
      " [-2.16631010e+00  1.04369065e+00 -2.68681102e-01 -1.67313672e-02]\n",
      " [-2.32613087e+00  1.33078335e-01  9.37592444e-02  1.33483413e-01]\n",
      " [-2.21845090e+00 -7.28676165e-01 -2.30911237e-01 -2.42503814e-03]\n",
      " [-2.63310070e+00 -9.61506729e-01  1.80796084e-01  1.92155336e-02]\n",
      " [-2.19874060e+00  1.86005711e+00 -4.72900998e-01 -1.94731769e-01]\n",
      " [-2.26221453e+00  2.68628449e+00  3.05266093e-02 -5.05337373e-02]\n",
      " [-2.20758770e+00  1.48360936e+00 -5.34409408e-03 -1.88817432e-01]\n",
      " [-2.19034951e+00  4.88838316e-01 -4.42153165e-02 -9.30904384e-02]\n",
      " [-1.89857200e+00  1.40501879e+00 -3.74343275e-01 -6.10959671e-02]\n",
      " [-2.34336905e+00  1.12784938e+00  1.32630467e-01  3.77564197e-02]\n",
      " [-1.91432300e+00  4.08855708e-01 -4.21292594e-01 -1.09212863e-02]\n",
      " [-2.20701284e+00  9.24121427e-01  1.59865277e-01 -5.95973299e-02]\n",
      " [-2.77434470e+00  4.58343668e-01  3.32179098e-01 -1.96484301e-02]\n",
      " [-1.81866953e+00  8.55585263e-02  3.44885958e-02 -1.51140999e-01]\n",
      " [-2.22716331e+00  1.37254455e-01  1.17993536e-01  2.70140352e-01]\n",
      " [-1.95184633e+00 -6.25618588e-01 -3.05640982e-01 -4.35616510e-02]\n",
      " [-2.05115137e+00  2.42163553e-01  8.63640108e-02 -6.76800599e-02]\n",
      " [-2.16857717e+00  5.27149525e-01 -2.06816248e-01 -1.02753930e-02]\n",
      " [-2.13956345e+00  3.13217810e-01 -2.71150240e-01 -8.42592210e-02]\n",
      " [-2.26526149e+00 -3.37731904e-01  6.84357762e-02  1.08279885e-01]\n",
      " [-2.14012214e+00 -5.04540690e-01 -7.50084417e-02  4.81888683e-02]\n",
      " [-1.83159477e+00  4.23695068e-01 -2.70467377e-01 -2.39870381e-01]\n",
      " [-2.61494794e+00  1.79357586e+00  4.72284187e-02  2.29235932e-01]\n",
      " [-2.44617739e+00  2.15072788e+00 -8.26680451e-02  4.82143929e-02]\n",
      " [-2.10997488e+00 -4.60201841e-01 -1.70274861e-01 -2.90229468e-02]\n",
      " [-2.20780890e+00 -2.06107398e-01 -2.25441580e-01 -1.68907873e-01]\n",
      " [-2.04514621e+00  6.61558111e-01 -4.84537410e-01 -1.96358525e-01]\n",
      " [-2.52733191e+00  5.92292774e-01  1.94358125e-02  1.36504550e-01]\n",
      " [-2.42963258e+00 -9.04180040e-01  1.93254662e-01  9.73842285e-03]\n",
      " [-2.16971071e+00  2.68878961e-01 -1.75883821e-01 -7.04740592e-03]\n",
      " [-2.28647514e+00  4.41715388e-01  3.48949090e-02 -1.06983249e-01]\n",
      " [-1.85812246e+00 -2.33741516e+00 -2.04234223e-01 -2.89863919e-01]\n",
      " [-2.55363840e+00 -4.79100690e-01  3.05766453e-01  6.66014529e-02]\n",
      " [-1.96444768e+00  4.72326668e-01  3.09601318e-01 -1.77093014e-01]\n",
      " [-2.13705901e+00  1.14222926e+00  2.48433561e-01  1.51043437e-01]\n",
      " [-2.06974430e+00 -7.11052725e-01 -6.39298256e-02 -1.40269507e-01]\n",
      " [-2.38473317e+00  1.12042970e+00  5.72178581e-02  1.52230967e-01]\n",
      " [-2.39437631e+00 -3.86246873e-01  1.39467905e-01  4.88347616e-02]\n",
      " [-2.22944655e+00  9.97959764e-01 -1.81492780e-01  1.49281349e-02]\n",
      " [-2.20383344e+00  9.21635752e-03 -1.53029490e-01 -4.93717318e-02]\n",
      " [ 1.10178118e+00  8.62972418e-01 -6.84586163e-01 -3.48337755e-02]\n",
      " [ 7.31337425e-01  5.94614726e-01 -9.41217155e-02 -4.90362325e-03]\n",
      " [ 1.24097932e+00  6.16297654e-01 -5.54006835e-01 -9.42339702e-03]\n",
      " [ 4.07483059e-01 -1.75440399e+00 -2.31017678e-02 -6.57688353e-02]\n",
      " [ 1.07547470e+00 -2.08421046e-01 -3.98255523e-01 -1.04736873e-01]\n",
      " [ 3.88687337e-01 -5.93283636e-01  1.24191550e-01  2.40831300e-01]\n",
      " [ 7.46529741e-01  7.73019312e-01  1.48969403e-01  7.73697853e-02]\n",
      " [-4.87322742e-01 -1.85242909e+00  2.49265266e-01  4.05202053e-02]\n",
      " [ 9.27901638e-01  3.22260779e-02 -5.96169361e-01  2.98796094e-02]\n",
      " [ 1.14261887e-02 -1.03401828e+00  5.38899390e-01  2.84611837e-02]\n",
      " [-1.10196280e-01 -2.65407282e+00 -4.67904441e-02 -1.37607310e-02]\n",
      " [ 4.40693449e-01 -6.32951884e-02  2.05073815e-01 -4.01260816e-02]\n",
      " [ 5.62108306e-01 -1.76472438e+00 -7.65771394e-01 -4.57311573e-02]\n",
      " [ 7.19561889e-01 -1.86224606e-01 -6.86589454e-02  1.64807198e-01]\n",
      " [-3.33547032e-02 -4.39003210e-01  1.94932893e-01 -1.09048499e-01]\n",
      " [ 8.75407191e-01  5.09063957e-01 -5.03511382e-01 -1.04943723e-01]\n",
      " [ 3.50251668e-01 -1.96311735e-01  4.90873075e-01  1.91509364e-01]\n",
      " [ 1.58810048e-01 -7.92095742e-01 -3.02037174e-01  2.05297735e-01]\n",
      " [ 1.22509363e+00 -1.62224380e+00 -4.82304024e-01 -2.25899769e-01]\n",
      " [ 1.64917899e-01 -1.30260923e+00 -1.72837808e-01  5.17268487e-02]\n",
      " [ 7.37682649e-01  3.96571562e-01  6.16526306e-01  8.32841227e-02]\n",
      " [ 4.76287191e-01 -4.17320281e-01 -2.64952227e-01 -1.13568273e-01]\n",
      " [ 1.23417810e+00 -9.33325729e-01 -3.68412272e-01  9.94452551e-03]\n",
      " [ 6.32858200e-01 -4.16387721e-01 -2.91896252e-01  2.74220152e-01]\n",
      " [ 7.02661183e-01 -6.34118197e-02 -4.46027008e-01 -4.34583252e-02]\n",
      " [ 8.74273654e-01  2.50793393e-01 -4.72578954e-01 -1.01715736e-01]\n",
      " [ 1.25650912e+00 -7.72560197e-02 -7.27155002e-01 -3.96885184e-02]\n",
      " [ 1.35840512e+00  3.31311682e-01 -2.60826577e-01 -6.68280639e-02]\n",
      " [ 6.64800367e-01 -2.25927855e-01  8.58638887e-02  3.64398401e-02]\n",
      " [-4.02586109e-02 -1.05871855e+00 -3.19573330e-01 -6.47881557e-02]\n",
      " [ 1.30795175e-01 -1.56227183e+00 -1.49983478e-01  9.40252286e-03]\n",
      " [ 2.34526890e-02 -1.57247559e+00 -2.41552281e-01  3.27724444e-02]\n",
      " [ 2.41538273e-01 -7.77256383e-01 -1.51211957e-01 -2.36513599e-02]\n",
      " [ 1.06109461e+00 -6.33843245e-01  1.05311387e-01  1.83968453e-01]\n",
      " [ 2.23978774e-01 -2.87773512e-01  6.65249720e-01  2.54828368e-01]\n",
      " [ 4.29139116e-01  8.45582241e-01  4.50634071e-01  1.09675181e-01]\n",
      " [ 1.04872805e+00  5.22051797e-01 -3.95786384e-01 -3.72090187e-02]\n",
      " [ 1.04453138e+00 -1.38298872e+00 -6.88295960e-01 -1.36835600e-01]\n",
      " [ 6.95883211e-02 -2.19503335e-01  2.91579274e-01  1.47144581e-01]\n",
      " [ 2.83477238e-01 -1.32932464e+00  8.94100229e-02 -8.90580520e-03]\n",
      " [ 2.79077776e-01 -1.12002852e+00  9.44876010e-02  2.70657196e-01]\n",
      " [ 6.24569791e-01  2.49230293e-02 -2.04811472e-02  1.47686401e-01]\n",
      " [ 3.36530370e-01 -9.88404018e-01 -1.99389755e-01 -6.53056201e-03]\n",
      " [-3.62183385e-01 -2.01923787e+00  1.05821048e-01 -1.95708119e-02]\n",
      " [ 2.88586239e-01 -8.55730320e-01  1.30889685e-01  1.07402349e-01]\n",
      " [ 9.13606557e-02 -1.81192126e-01  1.28978343e-01  2.29959626e-01]\n",
      " [ 2.27716866e-01 -3.84920081e-01  1.56213154e-01  1.32605877e-01]\n",
      " [ 5.76388289e-01 -1.54873597e-01 -2.71650362e-01  1.98606790e-02]\n",
      " [-4.47667019e-01 -1.54379203e+00  1.90400930e-01 -1.99946457e-01]\n",
      " [ 2.56730589e-01 -5.98851796e-01  9.18791610e-02  5.86220486e-02]\n",
      " [ 1.84456887e+00  8.70421312e-01  1.00540102e+00  4.92497432e-02]\n",
      " [ 1.15788161e+00 -6.98869862e-01  5.30160149e-01  4.05207540e-02]\n",
      " [ 2.20526679e+00  5.62010477e-01 -2.02914170e-01 -5.91841937e-02]\n",
      " [ 1.44015066e+00 -4.69875881e-02  1.63630107e-01  2.35770073e-01]\n",
      " [ 1.86781222e+00  2.95044824e-01  3.95628375e-01  1.62982715e-02]\n",
      " [ 2.75187334e+00  8.00409201e-01 -5.82309103e-01  1.01384486e-01]\n",
      " [ 3.67017688e-01 -1.56150289e+00  9.86893267e-01  1.33123834e-01]\n",
      " [ 2.30243944e+00  4.20065580e-01 -6.51706439e-01  2.38041242e-01]\n",
      " [ 2.00668647e+00 -7.11438654e-01 -3.93990571e-01  8.65106302e-02]\n",
      " [ 2.25977735e+00  1.92101038e+00  3.97551897e-01 -1.04838918e-01]\n",
      " [ 1.36417549e+00  6.92756454e-01  2.84612074e-01 -1.07860420e-01]\n",
      " [ 1.60267867e+00 -4.21700450e-01  2.31864079e-02 -5.83316327e-02]\n",
      " [ 1.88390070e+00  4.19249651e-01  2.63384095e-02 -1.46414939e-01]\n",
      " [ 1.26011510e+00 -1.16226042e+00  5.80249290e-01 -9.91573214e-02]\n",
      " [ 1.46764520e+00 -4.42271587e-01  1.00386957e+00 -2.75658903e-01]\n",
      " [ 1.59007732e+00  6.76244806e-01  6.38428708e-01 -1.91862996e-01]\n",
      " [ 1.47143146e+00  2.55621824e-01  3.74312599e-02  1.55330271e-01]\n",
      " [ 2.42632899e+00  2.55666125e+00 -1.27881459e-01  2.73807183e-01]\n",
      " [ 3.31069558e+00  1.77809493e-02 -7.03305304e-01 -4.51886059e-02]\n",
      " [ 1.26376667e+00 -1.70674538e+00 -2.67536893e-01  6.51807997e-02]\n",
      " [ 2.03771630e+00  9.10467410e-01  2.34799484e-01 -1.67951254e-01]\n",
      " [ 9.77980734e-01 -5.71764325e-01  8.28127201e-01 -2.77555871e-02]\n",
      " [ 2.89765149e+00  4.13641060e-01 -8.57421825e-01  1.27336502e-01]\n",
      " [ 1.33323218e+00 -4.81811219e-01 -5.42836383e-03 -1.39959148e-01]\n",
      " [ 1.70073390e+00  1.01392187e+00  2.98450613e-01  6.16437339e-02]\n",
      " [ 1.95432671e+00  1.00777760e+00 -4.19984722e-01  2.18338351e-01]\n",
      " [ 1.17510363e+00 -3.16394472e-01  1.29937757e-01 -1.25420444e-01]\n",
      " [ 1.02095055e+00  6.43460292e-02  3.37715967e-01  8.65440136e-03]\n",
      " [ 1.78834992e+00 -1.87361215e-01  2.70658006e-01 -3.10876478e-02]\n",
      " [ 1.86364755e+00  5.62290726e-01 -7.15634119e-01  2.08215164e-01]\n",
      " [ 2.43595373e+00  2.59284433e-01 -7.27816146e-01  1.79233648e-02]\n",
      " [ 2.30492772e+00  2.62632347e+00 -4.93473808e-01  2.11675709e-01]\n",
      " [ 1.86270322e+00 -1.78549495e-01  3.54148712e-01 -1.00009882e-01]\n",
      " [ 1.11414774e+00 -2.92922623e-01 -1.83488392e-01  1.86343697e-01]\n",
      " [ 1.20247330e+00 -8.11315271e-01 -1.64723757e-01  4.89483470e-01]\n",
      " [ 2.79877045e+00  8.56803329e-01 -5.42906499e-01 -2.95881050e-01]\n",
      " [ 1.57625591e+00  1.06858111e+00  9.45853819e-01 -3.56057591e-02]\n",
      " [ 1.34629210e+00  4.22430611e-01  1.80875478e-01  2.15421288e-01]\n",
      " [ 9.24824917e-01  1.72231005e-02  4.16826193e-01 -5.23840949e-03]\n",
      " [ 1.85204505e+00  6.76128174e-01 -1.26721148e-02 -1.95195239e-01]\n",
      " [ 2.01481043e+00  6.13885637e-01  4.28332842e-01 -2.47538313e-01]\n",
      " [ 1.90178409e+00  6.89575494e-01  1.30075005e-01 -4.69696647e-01]\n",
      " [ 1.15788161e+00 -6.98869862e-01  5.30160149e-01  4.05207540e-02]\n",
      " [ 2.04055823e+00  8.67520601e-01  3.38144000e-01 -4.51871263e-02]\n",
      " [ 1.99814710e+00  1.04916875e+00  6.32413436e-01 -2.14045204e-01]\n",
      " [ 1.87050329e+00  3.86966082e-01  2.56273852e-01 -3.89256845e-01]\n",
      " [ 1.56458048e+00 -8.96686809e-01 -2.63713516e-02 -2.20192100e-01]\n",
      " [ 1.52117050e+00  2.69069144e-01  1.80178380e-01 -1.19171137e-01]\n",
      " [ 1.37278779e+00  1.01125442e+00  9.33395241e-01 -2.61286484e-02]\n",
      " [ 9.60656030e-01 -2.43316682e-02  5.28248807e-01  1.63078032e-01]]\n"
     ]
    }
   ],
   "source": [
    "\n",
    "print(X_pca)"
   ]
  },
  {
   "cell_type": "code",
   "execution_count": 39,
   "metadata": {},
   "outputs": [
    {
     "data": {
      "text/plain": [
       "<matplotlib.collections.PathCollection at 0x229203cdbb0>"
      ]
     },
     "execution_count": 39,
     "metadata": {},
     "output_type": "execute_result"
    },
    {
     "data": {
      "image/png": "[encoded data removed]",
      "text/plain": [
       "<Figure size 640x480 with 1 Axes>"
      ]
     },
     "metadata": {},
     "output_type": "display_data"
    }
   ],
   "source": [
    "plt.scatter(X_pca[:,0],X_pca[:,1],c=y)"
   ]
  },
  {
   "cell_type": "code",
   "execution_count": 40,
   "metadata": {},
   "outputs": [],
   "source": [
    "pca2=PCA(0.95)"
   ]
  },
  {
   "cell_type": "code",
   "execution_count": 41,
   "metadata": {},
   "outputs": [],
   "source": [
    "X_pca2=pca2.fit_transform(X_std)"
   ]
  },
  {
   "cell_type": "code",
   "execution_count": 42,
   "metadata": {},
   "outputs": [
    {
     "data": {
      "text/plain": [
       "2"
      ]
     },
     "execution_count": 42,
     "metadata": {},
     "output_type": "execute_result"
    }
   ],
   "source": [
    "pca2.n_components_"
   ]
  },
  {
   "cell_type": "code",
   "execution_count": 43,
   "metadata": {},
   "outputs": [
    {
     "data": {
      "text/plain": [
       "0.9581320720000164"
      ]
     },
     "execution_count": 43,
     "metadata": {},
     "output_type": "execute_result"
    }
   ],
   "source": [
    "pca2.explained_variance_ratio_.sum()"
   ]
  },
  {
   "cell_type": "code",
   "execution_count": 44,
   "metadata": {},
   "outputs": [],
   "source": [
    "from nltk.tokenize import sent_tokenize"
   ]
  },
  {
   "cell_type": "code",
   "execution_count": 45,
   "metadata": {},
   "outputs": [
    {
     "ename": "NameError",
     "evalue": "name 'nltk' is not defined",
     "output_type": "error",
     "traceback": [
      "\u001b[1;31m---------------------------------------------------------------------------\u001b[0m",
      "\u001b[1;31mNameError\u001b[0m                                 Traceback (most recent call last)",
      "Cell \u001b[1;32mIn[45], line 1\u001b[0m\n\u001b[1;32m----> 1\u001b[0m \u001b[43mnltk\u001b[49m\u001b[38;5;241m.\u001b[39mdownload(\u001b[38;5;124m'\u001b[39m\u001b[38;5;124mall\u001b[39m\u001b[38;5;124m'\u001b[39m)\n",
      "\u001b[1;31mNameError\u001b[0m: name 'nltk' is not defined"
     ]
    }
   ],
   "source": [
    "nltk.download('all')"
   ]
  },
  {
   "cell_type": "code",
   "execution_count": 3,
   "metadata": {},
   "outputs": [
    {
     "ename": "LookupError",
     "evalue": "\n**********************************************************************\n  Resource \u001b[93mpunkt\u001b[0m not found.\n  Please use the NLTK Downloader to obtain the resource:\n\n  \u001b[31m>>> import nltk\n  >>> nltk.download('punkt')\n  \u001b[0m\n  For more information see: https://www.nltk.org/data.html\n\n  Attempted to load \u001b[93mtokenizers/punkt/english.pickle\u001b[0m\n\n  Searched in:\n    - 'C:\\\\Users\\\\ACER/nltk_data'\n    - 'c:\\\\Users\\\\ACER\\\\Desktop\\\\VM\\\\.venv\\\\nltk_data'\n    - 'c:\\\\Users\\\\ACER\\\\Desktop\\\\VM\\\\.venv\\\\share\\\\nltk_data'\n    - 'c:\\\\Users\\\\ACER\\\\Desktop\\\\VM\\\\.venv\\\\lib\\\\nltk_data'\n    - 'C:\\\\Users\\\\ACER\\\\AppData\\\\Roaming\\\\nltk_data'\n    - 'C:\\\\nltk_data'\n    - 'D:\\\\nltk_data'\n    - 'E:\\\\nltk_data'\n    - ''\n**********************************************************************\n",
     "output_type": "error",
     "traceback": [
      "\u001b[1;31m---------------------------------------------------------------------------\u001b[0m",
      "\u001b[1;31mLookupError\u001b[0m                               Traceback (most recent call last)",
      "Cell \u001b[1;32mIn[3], line 1\u001b[0m\n\u001b[1;32m----> 1\u001b[0m \u001b[43msent_tokenize\u001b[49m\u001b[43m(\u001b[49m\u001b[38;5;124;43m'\u001b[39;49m\u001b[38;5;124;43mI am studying data science.What are you studying?Data Science is interesting\u001b[39;49m\u001b[38;5;124;43m'\u001b[39;49m\u001b[43m)\u001b[49m\n",
      "File \u001b[1;32mc:\\Users\\ACER\\Desktop\\VM\\.venv\\Lib\\site-packages\\nltk\\tokenize\\__init__.py:106\u001b[0m, in \u001b[0;36msent_tokenize\u001b[1;34m(text, language)\u001b[0m\n\u001b[0;32m     96\u001b[0m \u001b[38;5;28;01mdef\u001b[39;00m \u001b[38;5;21msent_tokenize\u001b[39m(text, language\u001b[38;5;241m=\u001b[39m\u001b[38;5;124m\"\u001b[39m\u001b[38;5;124menglish\u001b[39m\u001b[38;5;124m\"\u001b[39m):\n\u001b[0;32m     97\u001b[0m \u001b[38;5;250m    \u001b[39m\u001b[38;5;124;03m\"\"\"\u001b[39;00m\n\u001b[0;32m     98\u001b[0m \u001b[38;5;124;03m    Return a sentence-tokenized copy of *text*,\u001b[39;00m\n\u001b[0;32m     99\u001b[0m \u001b[38;5;124;03m    using NLTK's recommended sentence tokenizer\u001b[39;00m\n\u001b[1;32m   (...)\u001b[0m\n\u001b[0;32m    104\u001b[0m \u001b[38;5;124;03m    :param language: the model name in the Punkt corpus\u001b[39;00m\n\u001b[0;32m    105\u001b[0m \u001b[38;5;124;03m    \"\"\"\u001b[39;00m\n\u001b[1;32m--> 106\u001b[0m     tokenizer \u001b[38;5;241m=\u001b[39m \u001b[43mload\u001b[49m\u001b[43m(\u001b[49m\u001b[38;5;124;43mf\u001b[39;49m\u001b[38;5;124;43m\"\u001b[39;49m\u001b[38;5;124;43mtokenizers/punkt/\u001b[39;49m\u001b[38;5;132;43;01m{\u001b[39;49;00m\u001b[43mlanguage\u001b[49m\u001b[38;5;132;43;01m}\u001b[39;49;00m\u001b[38;5;124;43m.pickle\u001b[39;49m\u001b[38;5;124;43m\"\u001b[39;49m\u001b[43m)\u001b[49m\n\u001b[0;32m    107\u001b[0m     \u001b[38;5;28;01mreturn\u001b[39;00m tokenizer\u001b[38;5;241m.\u001b[39mtokenize(text)\n",
      "File \u001b[1;32mc:\\Users\\ACER\\Desktop\\VM\\.venv\\Lib\\site-packages\\nltk\\data.py:750\u001b[0m, in \u001b[0;36mload\u001b[1;34m(resource_url, format, cache, verbose, logic_parser, fstruct_reader, encoding)\u001b[0m\n\u001b[0;32m    747\u001b[0m     \u001b[38;5;28mprint\u001b[39m(\u001b[38;5;124mf\u001b[39m\u001b[38;5;124m\"\u001b[39m\u001b[38;5;124m<<Loading \u001b[39m\u001b[38;5;132;01m{\u001b[39;00mresource_url\u001b[38;5;132;01m}\u001b[39;00m\u001b[38;5;124m>>\u001b[39m\u001b[38;5;124m\"\u001b[39m)\n\u001b[0;32m    749\u001b[0m \u001b[38;5;66;03m# Load the resource.\u001b[39;00m\n\u001b[1;32m--> 750\u001b[0m opened_resource \u001b[38;5;241m=\u001b[39m \u001b[43m_open\u001b[49m\u001b[43m(\u001b[49m\u001b[43mresource_url\u001b[49m\u001b[43m)\u001b[49m\n\u001b[0;32m    752\u001b[0m \u001b[38;5;28;01mif\u001b[39;00m \u001b[38;5;28mformat\u001b[39m \u001b[38;5;241m==\u001b[39m \u001b[38;5;124m\"\u001b[39m\u001b[38;5;124mraw\u001b[39m\u001b[38;5;124m\"\u001b[39m:\n\u001b[0;32m    753\u001b[0m     resource_val \u001b[38;5;241m=\u001b[39m opened_resource\u001b[38;5;241m.\u001b[39mread()\n",
      "File \u001b[1;32mc:\\Users\\ACER\\Desktop\\VM\\.venv\\Lib\\site-packages\\nltk\\data.py:876\u001b[0m, in \u001b[0;36m_open\u001b[1;34m(resource_url)\u001b[0m\n\u001b[0;32m    873\u001b[0m protocol, path_ \u001b[38;5;241m=\u001b[39m split_resource_url(resource_url)\n\u001b[0;32m    875\u001b[0m \u001b[38;5;28;01mif\u001b[39;00m protocol \u001b[38;5;129;01mis\u001b[39;00m \u001b[38;5;28;01mNone\u001b[39;00m \u001b[38;5;129;01mor\u001b[39;00m protocol\u001b[38;5;241m.\u001b[39mlower() \u001b[38;5;241m==\u001b[39m \u001b[38;5;124m\"\u001b[39m\u001b[38;5;124mnltk\u001b[39m\u001b[38;5;124m\"\u001b[39m:\n\u001b[1;32m--> 876\u001b[0m     \u001b[38;5;28;01mreturn\u001b[39;00m \u001b[43mfind\u001b[49m\u001b[43m(\u001b[49m\u001b[43mpath_\u001b[49m\u001b[43m,\u001b[49m\u001b[43m \u001b[49m\u001b[43mpath\u001b[49m\u001b[43m \u001b[49m\u001b[38;5;241;43m+\u001b[39;49m\u001b[43m \u001b[49m\u001b[43m[\u001b[49m\u001b[38;5;124;43m\"\u001b[39;49m\u001b[38;5;124;43m\"\u001b[39;49m\u001b[43m]\u001b[49m\u001b[43m)\u001b[49m\u001b[38;5;241m.\u001b[39mopen()\n\u001b[0;32m    877\u001b[0m \u001b[38;5;28;01melif\u001b[39;00m protocol\u001b[38;5;241m.\u001b[39mlower() \u001b[38;5;241m==\u001b[39m \u001b[38;5;124m\"\u001b[39m\u001b[38;5;124mfile\u001b[39m\u001b[38;5;124m\"\u001b[39m:\n\u001b[0;32m    878\u001b[0m     \u001b[38;5;66;03m# urllib might not use mode='rb', so handle this one ourselves:\u001b[39;00m\n\u001b[0;32m    879\u001b[0m     \u001b[38;5;28;01mreturn\u001b[39;00m find(path_, [\u001b[38;5;124m\"\u001b[39m\u001b[38;5;124m\"\u001b[39m])\u001b[38;5;241m.\u001b[39mopen()\n",
      "File \u001b[1;32mc:\\Users\\ACER\\Desktop\\VM\\.venv\\Lib\\site-packages\\nltk\\data.py:583\u001b[0m, in \u001b[0;36mfind\u001b[1;34m(resource_name, paths)\u001b[0m\n\u001b[0;32m    581\u001b[0m sep \u001b[38;5;241m=\u001b[39m \u001b[38;5;124m\"\u001b[39m\u001b[38;5;124m*\u001b[39m\u001b[38;5;124m\"\u001b[39m \u001b[38;5;241m*\u001b[39m \u001b[38;5;241m70\u001b[39m\n\u001b[0;32m    582\u001b[0m resource_not_found \u001b[38;5;241m=\u001b[39m \u001b[38;5;124mf\u001b[39m\u001b[38;5;124m\"\u001b[39m\u001b[38;5;130;01m\\n\u001b[39;00m\u001b[38;5;132;01m{\u001b[39;00msep\u001b[38;5;132;01m}\u001b[39;00m\u001b[38;5;130;01m\\n\u001b[39;00m\u001b[38;5;132;01m{\u001b[39;00mmsg\u001b[38;5;132;01m}\u001b[39;00m\u001b[38;5;130;01m\\n\u001b[39;00m\u001b[38;5;132;01m{\u001b[39;00msep\u001b[38;5;132;01m}\u001b[39;00m\u001b[38;5;130;01m\\n\u001b[39;00m\u001b[38;5;124m\"\u001b[39m\n\u001b[1;32m--> 583\u001b[0m \u001b[38;5;28;01mraise\u001b[39;00m \u001b[38;5;167;01mLookupError\u001b[39;00m(resource_not_found)\n",
      "\u001b[1;31mLookupError\u001b[0m: \n**********************************************************************\n  Resource \u001b[93mpunkt\u001b[0m not found.\n  Please use the NLTK Downloader to obtain the resource:\n\n  \u001b[31m>>> import nltk\n  >>> nltk.download('punkt')\n  \u001b[0m\n  For more information see: https://www.nltk.org/data.html\n\n  Attempted to load \u001b[93mtokenizers/punkt/english.pickle\u001b[0m\n\n  Searched in:\n    - 'C:\\\\Users\\\\ACER/nltk_data'\n    - 'c:\\\\Users\\\\ACER\\\\Desktop\\\\VM\\\\.venv\\\\nltk_data'\n    - 'c:\\\\Users\\\\ACER\\\\Desktop\\\\VM\\\\.venv\\\\share\\\\nltk_data'\n    - 'c:\\\\Users\\\\ACER\\\\Desktop\\\\VM\\\\.venv\\\\lib\\\\nltk_data'\n    - 'C:\\\\Users\\\\ACER\\\\AppData\\\\Roaming\\\\nltk_data'\n    - 'C:\\\\nltk_data'\n    - 'D:\\\\nltk_data'\n    - 'E:\\\\nltk_data'\n    - ''\n**********************************************************************\n"
     ]
    }
   ],
   "source": [
    "sent_tokenize('I am studying data science.What are you studying?Data Science is interesting')"
   ]
  },
  {
   "cell_type": "code",
   "execution_count": 5,
   "metadata": {},
   "outputs": [],
   "source": [
    "from nltk.stem import PorterStemmer"
   ]
  },
  {
   "cell_type": "code",
   "execution_count": 46,
   "metadata": {},
   "outputs": [
    {
     "name": "stderr",
     "output_type": "stream",
     "text": [
      "[nltk_data] Downloading package wordnet to\n",
      "[nltk_data]     C:\\Users\\ACER\\AppData\\Roaming\\nltk_data...\n",
      "[nltk_data]   Package wordnet is already up-to-date!\n"
     ]
    },
    {
     "data": {
      "text/plain": [
       "True"
      ]
     },
     "execution_count": 46,
     "metadata": {},
     "output_type": "execute_result"
    }
   ],
   "source": [
    "import nltk\n",
    "nltk.download('wordnet')"
   ]
  },
  {
   "cell_type": "code",
   "execution_count": 47,
   "metadata": {},
   "outputs": [
    {
     "ename": "NameError",
     "evalue": "name 'PorterStemmer' is not defined",
     "output_type": "error",
     "traceback": [
      "\u001b[1;31m---------------------------------------------------------------------------\u001b[0m",
      "\u001b[1;31mNameError\u001b[0m                                 Traceback (most recent call last)",
      "Cell \u001b[1;32mIn[47], line 1\u001b[0m\n\u001b[1;32m----> 1\u001b[0m porter\u001b[38;5;241m=\u001b[39m\u001b[43mPorterStemmer\u001b[49m()\n",
      "\u001b[1;31mNameError\u001b[0m: name 'PorterStemmer' is not defined"
     ]
    }
   ],
   "source": [
    "porter=PorterStemmer()"
   ]
  },
  {
   "cell_type": "code",
   "execution_count": 7,
   "metadata": {},
   "outputs": [],
   "source": [
    "token=['friend','friendship','friends','friendships']"
   ]
  },
  {
   "cell_type": "code",
   "execution_count": 10,
   "metadata": {},
   "outputs": [
    {
     "name": "stdout",
     "output_type": "stream",
     "text": [
      "organ\n",
      "organ\n",
      "organ\n"
     ]
    }
   ],
   "source": [
    "tokens=['organize','organizes','organizing']\n",
    "for each in tokens:\n",
    "    print(porter.stem(each))"
   ]
  },
  {
   "cell_type": "code",
   "execution_count": 11,
   "metadata": {},
   "outputs": [],
   "source": [
    "from nltk.stem import WordNetLemmatizer"
   ]
  },
  {
   "cell_type": "code",
   "execution_count": 48,
   "metadata": {},
   "outputs": [
    {
     "ename": "NameError",
     "evalue": "name 'WordNetLemmatizer' is not defined",
     "output_type": "error",
     "traceback": [
      "\u001b[1;31m---------------------------------------------------------------------------\u001b[0m",
      "\u001b[1;31mNameError\u001b[0m                                 Traceback (most recent call last)",
      "Cell \u001b[1;32mIn[48], line 1\u001b[0m\n\u001b[1;32m----> 1\u001b[0m lemmatizer\u001b[38;5;241m=\u001b[39m\u001b[43mWordNetLemmatizer\u001b[49m()\n",
      "\u001b[1;31mNameError\u001b[0m: name 'WordNetLemmatizer' is not defined"
     ]
    }
   ],
   "source": [
    "lemmatizer=WordNetLemmatizer()"
   ]
  },
  {
   "cell_type": "code",
   "execution_count": 49,
   "metadata": {},
   "outputs": [
    {
     "ename": "NameError",
     "evalue": "name 'lemmatizer' is not defined",
     "output_type": "error",
     "traceback": [
      "\u001b[1;31m---------------------------------------------------------------------------\u001b[0m",
      "\u001b[1;31mNameError\u001b[0m                                 Traceback (most recent call last)",
      "Cell \u001b[1;32mIn[49], line 3\u001b[0m\n\u001b[0;32m      1\u001b[0m words\u001b[38;5;241m=\u001b[39m[\u001b[38;5;124m'\u001b[39m\u001b[38;5;124mrocks\u001b[39m\u001b[38;5;124m'\u001b[39m,\u001b[38;5;124m'\u001b[39m\u001b[38;5;124mcorpora\u001b[39m\u001b[38;5;124m'\u001b[39m,\u001b[38;5;124m'\u001b[39m\u001b[38;5;124mbetter\u001b[39m\u001b[38;5;124m'\u001b[39m]\n\u001b[0;32m      2\u001b[0m \u001b[38;5;28;01mfor\u001b[39;00m each \u001b[38;5;129;01min\u001b[39;00m words:\n\u001b[1;32m----> 3\u001b[0m     \u001b[38;5;28mprint\u001b[39m(\u001b[43mlemmatizer\u001b[49m\u001b[38;5;241m.\u001b[39mlemmatize(each))\n",
      "\u001b[1;31mNameError\u001b[0m: name 'lemmatizer' is not defined"
     ]
    }
   ],
   "source": [
    "words=['rocks','corpora','better']\n",
    "for each in words:\n",
    "    print(lemmatizer.lemmatize(each))"
   ]
  },
  {
   "cell_type": "code",
   "execution_count": null,
   "metadata": {},
   "outputs": [],
   "source": [
    "import nltk\n",
    "nltk.download('average_perception_tagger')\n",
    "pos_tag(word_list)"
   ]
  },
  {
   "cell_type": "code",
   "execution_count": null,
   "metadata": {},
   "outputs": [],
   "source": [
    "#CountVectorizer"
   ]
  },
  {
   "cell_type": "code",
   "execution_count": 7,
   "metadata": {},
   "outputs": [],
   "source": [
    "text_documents = ['This natural physical landmass in South Asia is the dry-land portion of the Indian Plate, which has been relatively isolated from the rest of Eurasia',' In the west it is bounded by parts of the mountain ranges of Hindu Kush, Spīn Ghar (Safed Koh), Sulaiman Mountains, Kirthar Mountains, Brahui range, and Pab range among others,[43] with the Western Fold Belt along the border (between the Sulaiman Range and the Chaman Fault) is the western boundary of the Indian Plate,[47] where, along the Eastern Hindu Kush, lies the Afghanistan–Pakistan border.','In terms of modern geopolitical boundaries, the subcontinent constitutes Bangladesh, Bhutan, India, Nepal, and Pakistan, besides, by convention, the island country of Sri Lanka and other nearby island nations of the Indian Ocean, such as Maldives and the British Indian Ocean Territory.']"
   ]
  },
  {
   "cell_type": "code",
   "execution_count": 9,
   "metadata": {},
   "outputs": [
    {
     "data": {
      "text/plain": [
       "'In terms of modern geopolitical boundaries, the subcontinent constitutes Bangladesh, Bhutan, India, Nepal, and Pakistan, besides, by convention, the island country of Sri Lanka and other nearby island nations of the Indian Ocean, such as Maldives and the British Indian Ocean Territory.'"
      ]
     },
     "execution_count": 9,
     "metadata": {},
     "output_type": "execute_result"
    }
   ],
   "source": [
    "text_documents[2]"
   ]
  },
  {
   "cell_type": "code",
   "execution_count": 10,
   "metadata": {},
   "outputs": [],
   "source": [
    "from sklearn.feature_extraction.text import CountVectorizer"
   ]
  },
  {
   "cell_type": "code",
   "execution_count": 11,
   "metadata": {},
   "outputs": [],
   "source": [
    "c_vec = CountVectorizer()"
   ]
  },
  {
   "cell_type": "code",
   "execution_count": 12,
   "metadata": {},
   "outputs": [],
   "source": [
    "X_c = c_vec.fit_transform(text_documents)"
   ]
  },
  {
   "cell_type": "code",
   "execution_count": 13,
   "metadata": {},
   "outputs": [
    {
     "data": {
      "text/plain": [
       "<3x87 sparse matrix of type '<class 'numpy.int64'>'\n",
       "\twith 100 stored elements in Compressed Sparse Row format>"
      ]
     },
     "execution_count": 13,
     "metadata": {},
     "output_type": "execute_result"
    }
   ],
   "source": [
    "X_c"
   ]
  },
  {
   "cell_type": "code",
   "execution_count": 16,
   "metadata": {},
   "outputs": [
    {
     "data": {
      "text/plain": [
       "<bound method _cs_matrix.toarray of <3x87 sparse matrix of type '<class 'numpy.int64'>'\n",
       "\twith 100 stored elements in Compressed Sparse Row format>>"
      ]
     },
     "execution_count": 16,
     "metadata": {},
     "output_type": "execute_result"
    }
   ],
   "source": [
    "X_c.toarray"
   ]
  },
  {
   "cell_type": "code",
   "execution_count": 15,
   "metadata": {},
   "outputs": [
    {
     "data": {
      "text/plain": [
       "(3, 87)"
      ]
     },
     "execution_count": 15,
     "metadata": {},
     "output_type": "execute_result"
    }
   ],
   "source": [
    "X_c.toarray().shape"
   ]
  },
  {
   "cell_type": "code",
   "execution_count": 17,
   "metadata": {},
   "outputs": [
    {
     "data": {
      "text/plain": [
       "87"
      ]
     },
     "execution_count": 17,
     "metadata": {},
     "output_type": "execute_result"
    }
   ],
   "source": [
    "len(c_vec.vocabulary_)"
   ]
  },
  {
   "cell_type": "code",
   "execution_count": 50,
   "metadata": {},
   "outputs": [],
   "source": [
    "#Vecotrizer, various kinds of vectorizer\n",
    "#Convert the text data to numerical data\n",
    "#Vectorizers\n",
    "\n",
    "#Count vectorizer\n",
    "#Hashing Vectorizer\n",
    "\n",
    "from sklearn.feature_extraction.text import CountVectorizer\n"
   ]
  },
  {
   "cell_type": "code",
   "execution_count": null,
   "metadata": {},
   "outputs": [],
   "source": [
    "?CountVectorizer\n",
    "\n",
    "#Countvectorizer limitation - It'll have huge dimensionality, if there is a word which is appearing in all the documents, India will appear again and again, giving high weight to frequesnt words.\n",
    "#Limitation -Giving weightage to frequent words"
   ]
  },
  {
   "cell_type": "code",
   "execution_count": 52,
   "metadata": {},
   "outputs": [],
   "source": [
    "#Hashing Vectorizer\n",
    "  #Murmur hash\n",
    "text_documents = ['Modern humans arrived on the Indian subcontinent from Africa no later than 55,000 years ago.','Their long occupation, initially in varying forms of isolation as hunter-gatherers, has made the region highly diverse, second only to Africa in human genetic diversity.','Settled life emerged on the subcontinent in the western margins of the Indus river basin 9,000 years ago, evolving gradually into the Indus Valley Civilisation of the third millennium BCE.','By 1200 BCE, an archaic form of Sanskrit, an Indo-European language, had diffused into India from the northwest. Its evidence today is found in the hymns of the Rigveda.']\n"
   ]
  },
  {
   "cell_type": "code",
   "execution_count": 53,
   "metadata": {},
   "outputs": [],
   "source": [
    "from sklearn.feature_extraction.text import HashingVectorizer"
   ]
  },
  {
   "cell_type": "code",
   "execution_count": 54,
   "metadata": {},
   "outputs": [],
   "source": [
    "h_vec = HashingVectorizer(n_features=50)"
   ]
  },
  {
   "cell_type": "code",
   "execution_count": 57,
   "metadata": {},
   "outputs": [],
   "source": [
    "X_h=h_vec.fit_transform(text_documents)"
   ]
  },
  {
   "cell_type": "code",
   "execution_count": 58,
   "metadata": {},
   "outputs": [
    {
     "data": {
      "text/plain": [
       "<4x50 sparse matrix of type '<class 'numpy.float64'>'\n",
       "\twith 77 stored elements in Compressed Sparse Row format>"
      ]
     },
     "execution_count": 58,
     "metadata": {},
     "output_type": "execute_result"
    }
   ],
   "source": [
    "X_h"
   ]
  },
  {
   "cell_type": "code",
   "execution_count": 59,
   "metadata": {},
   "outputs": [
    {
     "data": {
      "text/plain": [
       "array([[ 0.        ,  0.        , -0.23570226,  0.        , -0.23570226,\n",
       "         0.        ,  0.        ,  0.23570226, -0.23570226,  0.        ,\n",
       "         0.        , -0.23570226,  0.        ,  0.        ,  0.        ,\n",
       "        -0.23570226,  0.        ,  0.        ,  0.        , -0.23570226,\n",
       "         0.        ,  0.        ,  0.        ,  0.        ,  0.        ,\n",
       "         0.        ,  0.        ,  0.        ,  0.        ,  0.23570226,\n",
       "        -0.23570226, -0.23570226,  0.        ,  0.        ,  0.47140452,\n",
       "         0.        ,  0.23570226,  0.        ,  0.        ,  0.        ,\n",
       "         0.        ,  0.        ,  0.        ,  0.        , -0.23570226,\n",
       "         0.        ,  0.23570226,  0.        , -0.23570226,  0.        ],\n",
       "       [ 0.        , -0.16222142,  0.        ,  0.        ,  0.        ,\n",
       "         0.        ,  0.16222142, -0.16222142, -0.16222142, -0.16222142,\n",
       "        -0.16222142,  0.        ,  0.16222142,  0.        , -0.16222142,\n",
       "         0.        ,  0.        , -0.16222142,  0.        ,  0.        ,\n",
       "         0.        ,  0.        ,  0.        ,  0.        ,  0.        ,\n",
       "         0.16222142,  0.16222142,  0.        ,  0.        ,  0.        ,\n",
       "         0.16222142,  0.        , -0.16222142, -0.16222142,  0.        ,\n",
       "         0.16222142,  0.        ,  0.        ,  0.        ,  0.64888568,\n",
       "         0.        ,  0.16222142,  0.        ,  0.        ,  0.        ,\n",
       "         0.16222142,  0.32444284,  0.        ,  0.        ,  0.16222142],\n",
       "       [ 0.        ,  0.14433757,  0.14433757,  0.        , -0.14433757,\n",
       "        -0.14433757,  0.        ,  0.14433757, -0.72168784,  0.        ,\n",
       "        -0.14433757, -0.14433757,  0.        , -0.14433757, -0.14433757,\n",
       "         0.        ,  0.        ,  0.        ,  0.14433757,  0.        ,\n",
       "         0.        ,  0.        , -0.14433757,  0.        ,  0.        ,\n",
       "         0.        ,  0.        ,  0.        ,  0.        ,  0.        ,\n",
       "        -0.14433757,  0.        ,  0.        ,  0.        , -0.14433757,\n",
       "        -0.14433757,  0.        , -0.14433757,  0.14433757,  0.14433757,\n",
       "         0.        ,  0.        , -0.14433757,  0.        ,  0.        ,\n",
       "         0.        ,  0.28867513,  0.        ,  0.        ,  0.14433757],\n",
       "       [ 0.        ,  0.        ,  0.        ,  0.16222142,  0.        ,\n",
       "        -0.16222142,  0.        ,  0.16222142, -0.64888568,  0.        ,\n",
       "         0.16222142, -0.32444284,  0.        ,  0.        ,  0.        ,\n",
       "         0.        ,  0.        ,  0.        ,  0.        ,  0.        ,\n",
       "        -0.16222142, -0.16222142,  0.        ,  0.        ,  0.        ,\n",
       "         0.16222142,  0.        ,  0.32444284,  0.        ,  0.        ,\n",
       "         0.        ,  0.        ,  0.16222142,  0.        ,  0.        ,\n",
       "        -0.16222142,  0.        ,  0.        ,  0.        ,  0.16222142,\n",
       "         0.        , -0.16222142,  0.        ,  0.        ,  0.        ,\n",
       "        -0.16222142,  0.16222142,  0.        ,  0.        ,  0.16222142]])"
      ]
     },
     "execution_count": 59,
     "metadata": {},
     "output_type": "execute_result"
    }
   ],
   "source": [
    "X_h.toarray()"
   ]
  },
  {
   "cell_type": "code",
   "execution_count": 61,
   "metadata": {},
   "outputs": [
    {
     "data": {
      "text/plain": [
       "(4, 50)"
      ]
     },
     "execution_count": 61,
     "metadata": {},
     "output_type": "execute_result"
    }
   ],
   "source": [
    "X_h.shape"
   ]
  },
  {
   "cell_type": "code",
   "execution_count": 62,
   "metadata": {},
   "outputs": [
    {
     "name": "stdout",
     "output_type": "stream",
     "text": [
      "  (0, 2)\t-0.23570226039551587\n",
      "  (0, 4)\t-0.23570226039551587\n",
      "  (0, 7)\t0.23570226039551587\n",
      "  (0, 8)\t-0.23570226039551587\n",
      "  (0, 11)\t-0.23570226039551587\n",
      "  (0, 15)\t-0.23570226039551587\n",
      "  (0, 19)\t-0.23570226039551587\n",
      "  (0, 29)\t0.23570226039551587\n",
      "  (0, 30)\t-0.23570226039551587\n",
      "  (0, 31)\t-0.23570226039551587\n",
      "  (0, 34)\t0.47140452079103173\n",
      "  (0, 36)\t0.23570226039551587\n",
      "  (0, 44)\t-0.23570226039551587\n",
      "  (0, 46)\t0.23570226039551587\n",
      "  (0, 48)\t-0.23570226039551587\n"
     ]
    }
   ],
   "source": [
    "print(X_h[0])"
   ]
  },
  {
   "cell_type": "code",
   "execution_count": null,
   "metadata": {},
   "outputs": [],
   "source": [
    "#Disadvantages of Hashing Vectorizer\n",
    "#Memory occupancy"
   ]
  },
  {
   "cell_type": "code",
   "execution_count": 67,
   "metadata": {},
   "outputs": [],
   "source": [
    "#3rd kind of vectorizer\n",
    "#TF-ID Vectorizer\n",
    "#Term Frequency-Inverse Document Frequency\n",
    "#tfidf\n",
    "\n",
    "#TF-IDF = TF x IDF   #After applying TF-IDF, dimensionality remains the same TF(t,d) #t appears in the doc d\n",
    "\n",
    "from sklearn.feature_extraction.text import TfidfVectorizer,CountVectorizer\n",
    "\n",
    "data= ['The sky is blue','The sun is bright','We can see the sun shining, the bright sun']\n",
    "\n",
    "tfidf_v=TfidfVectorizer()\n",
    "count_v=CountVectorizer()\n"
   ]
  },
  {
   "cell_type": "code",
   "execution_count": 68,
   "metadata": {},
   "outputs": [],
   "source": [
    "tfidf_X=tfidf_v.fit_transform(data)\n",
    "count_X=count_v.fit_transform(data)\n"
   ]
  },
  {
   "cell_type": "code",
   "execution_count": 69,
   "metadata": {},
   "outputs": [
    {
     "data": {
      "text/plain": [
       "array(['blue', 'bright', 'can', 'is', 'see', 'shining', 'sky', 'sun',\n",
       "       'the', 'we'], dtype=object)"
      ]
     },
     "execution_count": 69,
     "metadata": {},
     "output_type": "execute_result"
    }
   ],
   "source": [
    "count_v.get_feature_names_out()"
   ]
  },
  {
   "cell_type": "code",
   "execution_count": 70,
   "metadata": {},
   "outputs": [
    {
     "data": {
      "text/plain": [
       "array(['blue', 'bright', 'can', 'is', 'see', 'shining', 'sky', 'sun',\n",
       "       'the', 'we'], dtype=object)"
      ]
     },
     "execution_count": 70,
     "metadata": {},
     "output_type": "execute_result"
    }
   ],
   "source": [
    "tfidf_v.get_feature_names_out()"
   ]
  },
  {
   "cell_type": "code",
   "execution_count": 72,
   "metadata": {},
   "outputs": [
    {
     "data": {
      "text/plain": [
       "array([[1, 0, 0, 1, 0, 0, 1, 0, 1, 0],\n",
       "       [0, 1, 0, 1, 0, 0, 0, 1, 1, 0],\n",
       "       [0, 1, 1, 0, 1, 1, 0, 2, 2, 1]], dtype=int64)"
      ]
     },
     "execution_count": 72,
     "metadata": {},
     "output_type": "execute_result"
    }
   ],
   "source": [
    "count_X.toarray()"
   ]
  },
  {
   "cell_type": "code",
   "execution_count": 74,
   "metadata": {},
   "outputs": [],
   "source": [
    "#Sentiment Analysis , oldest model of NLP, ist very commonly used\n",
    "\n",
    "from textblob import TextBlob"
   ]
  },
  {
   "cell_type": "code",
   "execution_count": 75,
   "metadata": {},
   "outputs": [],
   "source": [
    "res=TextBlob('The food was great!')"
   ]
  },
  {
   "cell_type": "code",
   "execution_count": 77,
   "metadata": {},
   "outputs": [
    {
     "data": {
      "text/plain": [
       "Sentiment(polarity=1.0, subjectivity=0.75)"
      ]
     },
     "execution_count": 77,
     "metadata": {},
     "output_type": "execute_result"
    }
   ],
   "source": [
    "res.sentiment   #Polarity =1 (positive),polarity=-1(Negative),Polarity=0(Neutral)"
   ]
  },
  {
   "cell_type": "code",
   "execution_count": 78,
   "metadata": {},
   "outputs": [
    {
     "data": {
      "text/plain": [
       "Sentiment(polarity=-0.5, subjectivity=0.6)"
      ]
     },
     "execution_count": 78,
     "metadata": {},
     "output_type": "execute_result"
    }
   ],
   "source": [
    "res=TextBlob('The food was worse!')\n",
    "res.sentiment"
   ]
  },
  {
   "cell_type": "code",
   "execution_count": 80,
   "metadata": {},
   "outputs": [
    {
     "data": {
      "text/plain": [
       "Sentiment(polarity=-0.5, subjectivity=0.6)"
      ]
     },
     "execution_count": 80,
     "metadata": {},
     "output_type": "execute_result"
    }
   ],
   "source": [
    "res.sentiment"
   ]
  },
  {
   "cell_type": "code",
   "execution_count": 81,
   "metadata": {},
   "outputs": [
    {
     "data": {
      "text/plain": [
       "Sentiment(polarity=0.0, subjectivity=0.0)"
      ]
     },
     "execution_count": 81,
     "metadata": {},
     "output_type": "execute_result"
    }
   ],
   "source": [
    "res=TextBlob('I don\\'t know how food was')\n",
    "res.sentiment"
   ]
  },
  {
   "cell_type": "code",
   "execution_count": 83,
   "metadata": {},
   "outputs": [
    {
     "data": {
      "text/plain": [
       "Sentiment(polarity=-1.0, subjectivity=0.8666666666666667)"
      ]
     },
     "execution_count": 83,
     "metadata": {},
     "output_type": "execute_result"
    }
   ],
   "source": [
    "res=TextBlob('The book was very bad!')\n",
    "res.sentiment"
   ]
  },
  {
   "cell_type": "code",
   "execution_count": 84,
   "metadata": {},
   "outputs": [
    {
     "data": {
      "text/plain": [
       "Sentiment(polarity=0.375, subjectivity=0.1)"
      ]
     },
     "execution_count": 84,
     "metadata": {},
     "output_type": "execute_result"
    }
   ],
   "source": [
    "res=TextBlob('The book is worth buying!')\n",
    "res.sentiment"
   ]
  },
  {
   "cell_type": "code",
   "execution_count": 85,
   "metadata": {},
   "outputs": [
    {
     "data": {
      "text/plain": [
       "Sentiment(polarity=-0.5, subjectivity=0.2)"
      ]
     },
     "execution_count": 85,
     "metadata": {},
     "output_type": "execute_result"
    }
   ],
   "source": [
    "res=TextBlob('Its useless book')\n",
    "res.sentiment"
   ]
  },
  {
   "cell_type": "code",
   "execution_count": 87,
   "metadata": {},
   "outputs": [
    {
     "data": {
      "text/plain": [
       "Sentiment(polarity=0.0, subjectivity=0.0)"
      ]
     },
     "execution_count": 87,
     "metadata": {},
     "output_type": "execute_result"
    }
   ],
   "source": [
    "res=TextBlob('I don\\'t know how book was')\n",
    "res.sentiment"
   ]
  },
  {
   "cell_type": "code",
   "execution_count": 91,
   "metadata": {},
   "outputs": [],
   "source": [
    "#VADER\n",
    "#Valence Aware Dictionary for sentiment reasoning\n",
    "\n",
    "from vaderSentiment.vaderSentiment import SentimentIntensityAnalyzer"
   ]
  },
  {
   "cell_type": "code",
   "execution_count": 92,
   "metadata": {},
   "outputs": [
    {
     "data": {
      "text/plain": [
       "{'neg': 0.0, 'neu': 0.423, 'pos': 0.577, 'compound': 0.6249}"
      ]
     },
     "execution_count": 92,
     "metadata": {},
     "output_type": "execute_result"
    }
   ],
   "source": [
    "analyzer=SentimentIntensityAnalyzer()\n",
    "res=analyzer.polarity_scores('The food was great')\n",
    "res"
   ]
  },
  {
   "cell_type": "code",
   "execution_count": 94,
   "metadata": {},
   "outputs": [
    {
     "data": {
      "text/plain": [
       "{'neg': 0.0, 'neu': 1.0, 'pos': 0.0, 'compound': 0.0}"
      ]
     },
     "execution_count": 94,
     "metadata": {},
     "output_type": "execute_result"
    }
   ],
   "source": [
    "analyzer=SentimentIntensityAnalyzer()\n",
    "res=analyzer.polarity_scores('I do not know how food was')\n",
    "res"
   ]
  },
  {
   "cell_type": "code",
   "execution_count": 97,
   "metadata": {},
   "outputs": [
    {
     "ename": "ModuleNotFoundError",
     "evalue": "No module named 'flair'",
     "output_type": "error",
     "traceback": [
      "\u001b[1;31m---------------------------------------------------------------------------\u001b[0m",
      "\u001b[1;31mModuleNotFoundError\u001b[0m                       Traceback (most recent call last)",
      "Cell \u001b[1;32mIn[97], line 1\u001b[0m\n\u001b[1;32m----> 1\u001b[0m \u001b[38;5;28;01mfrom\u001b[39;00m \u001b[38;5;21;01mflair\u001b[39;00m\u001b[38;5;21;01m.\u001b[39;00m\u001b[38;5;21;01mmodels\u001b[39;00m \u001b[38;5;28;01mimport\u001b[39;00m TextClassifier\n\u001b[0;32m      2\u001b[0m \u001b[38;5;28;01mfrom\u001b[39;00m \u001b[38;5;21;01mflair\u001b[39;00m\u001b[38;5;21;01m.\u001b[39;00m\u001b[38;5;21;01mdata\u001b[39;00m \u001b[38;5;28;01mimport\u001b[39;00m Sentence\n",
      "\u001b[1;31mModuleNotFoundError\u001b[0m: No module named 'flair'"
     ]
    }
   ],
   "source": [
    "from flair.models import TextClassifier\n",
    "from flair.data import Sentence"
   ]
  },
  {
   "cell_type": "code",
   "execution_count": 96,
   "metadata": {},
   "outputs": [
    {
     "ename": "NameError",
     "evalue": "name 'TextClassifier' is not defined",
     "output_type": "error",
     "traceback": [
      "\u001b[1;31m---------------------------------------------------------------------------\u001b[0m",
      "\u001b[1;31mNameError\u001b[0m                                 Traceback (most recent call last)",
      "Cell \u001b[1;32mIn[96], line 1\u001b[0m\n\u001b[1;32m----> 1\u001b[0m Classifier\u001b[38;5;241m=\u001b[39m\u001b[43mTextClassifier\u001b[49m\u001b[38;5;241m.\u001b[39mload(\u001b[38;5;124m'\u001b[39m\u001b[38;5;124men-sentiment\u001b[39m\u001b[38;5;124m'\u001b[39m)\n\u001b[0;32m      2\u001b[0m sent\u001b[38;5;241m=\u001b[39mSentence(\u001b[38;5;124m'\u001b[39m\u001b[38;5;124mThe food was great\u001b[39m\u001b[38;5;124m'\u001b[39m)\n\u001b[0;32m      3\u001b[0m classifier\u001b[38;5;241m.\u001b[39mpredict(sent)\n",
      "\u001b[1;31mNameError\u001b[0m: name 'TextClassifier' is not defined"
     ]
    }
   ],
   "source": [
    "Classifier=TextClassifier.load('en-sentiment')\n",
    "sent=Sentence('The food was great')\n",
    "classifier.predict(sent)\n"
   ]
  }
 ],
 "metadata": {
  "kernelspec": {
   "display_name": ".venv",
   "language": "python",
   "name": "python3"
  },
  "language_info": {
   "codemirror_mode": {
    "name": "ipython",
    "version": 3
   },
   "file_extension": ".py",
   "mimetype": "text/x-python",
   "name": "python",
   "nbconvert_exporter": "python",
   "pygments_lexer": "ipython3",
   "version": "3.12.2"
  }
 },
 "nbformat": 4,
 "nbformat_minor": 2
}
